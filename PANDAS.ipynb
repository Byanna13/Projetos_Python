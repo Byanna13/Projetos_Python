{
 "cells": [
  {
   "cell_type": "markdown",
   "id": "8b76dc1c",
   "metadata": {},
   "source": [
    "# Pandas"
   ]
  },
  {
   "cell_type": "markdown",
   "id": "51261029",
   "metadata": {},
   "source": [
    "Comando para instalar: pip install pandas\n",
    "\n",
    "- De froma geral, a biblioteca pandas prepara os dados para a análise;\n",
    "- Converte os dados de um estado 'bruto' para um estado que permite a enálise;\n",
    "- Este processo se chama Data Mining;\n",
    "- Este é o processo mais trabalhoso antes da análise;\n",
    "- Tem uma excelente integração com a biblioteca NumPy e outras;\n",
    "\n",
    "Trabalha Principalmente com 2 conceitos:\n",
    "- Series\n",
    "- Dataframe"
   ]
  },
  {
   "cell_type": "code",
   "execution_count": 4,
   "id": "b79e95ab",
   "metadata": {},
   "outputs": [],
   "source": [
    "# Importando a biblioteca Pandas\n",
    "\n",
    "import pandas as pd"
   ]
  },
  {
   "cell_type": "markdown",
   "id": "3d84b31c",
   "metadata": {},
   "source": [
    "# Series"
   ]
  },
  {
   "cell_type": "markdown",
   "id": "88c3be2b",
   "metadata": {},
   "source": [
    "Array unidimencional que conté valores/ídices (contém um array de valores e um array de ídices);"
   ]
  },
  {
   "cell_type": "code",
   "execution_count": 5,
   "id": "50717af7",
   "metadata": {},
   "outputs": [],
   "source": [
    "import pandas as pd"
   ]
  },
  {
   "cell_type": "code",
   "execution_count": 6,
   "id": "0736dfc4",
   "metadata": {},
   "outputs": [],
   "source": [
    "'''\n",
    "A função para se criar series ém com 'S' maiusculo;\n",
    "Ela recebe uma lista python e converte para series;\n",
    "É obrigado apenas informar os valores;\n",
    "Quando os índices não informados, serão gerados automaticamente.\n",
    "'''\n",
    "\n",
    "series_1 = pd.Series([13, 15, 2, 25])"
   ]
  },
  {
   "cell_type": "code",
   "execution_count": 7,
   "id": "bf4d6c4a",
   "metadata": {},
   "outputs": [
    {
     "name": "stdout",
     "output_type": "stream",
     "text": [
      "0    13\n",
      "1    15\n",
      "2     2\n",
      "3    25\n",
      "dtype: int64\n"
     ]
    }
   ],
   "source": [
    "# Ele imprime por padrão 3 infromações: índice, valores e o tipo de dados;\n",
    "\n",
    "print(series_1)"
   ]
  },
  {
   "cell_type": "code",
   "execution_count": 8,
   "id": "e93bc13a",
   "metadata": {},
   "outputs": [
    {
     "data": {
      "text/plain": [
       "pandas.core.series.Series"
      ]
     },
     "execution_count": 8,
     "metadata": {},
     "output_type": "execute_result"
    }
   ],
   "source": [
    "'''\n",
    "Imprime o tipo do dado armazenado na variável,\n",
    "Comprovando que é do tipo da biblioteca pandas\n",
    "'''\n",
    "type(series_1)"
   ]
  },
  {
   "cell_type": "code",
   "execution_count": 9,
   "id": "b57570fe",
   "metadata": {},
   "outputs": [
    {
     "name": "stdout",
     "output_type": "stream",
     "text": [
      "int64\n"
     ]
    }
   ],
   "source": [
    "# Imprime o tipo do dado armazenado na Series\n",
    "\n",
    "print(series_1.dtypes)"
   ]
  },
  {
   "cell_type": "code",
   "execution_count": 10,
   "id": "ad196780",
   "metadata": {},
   "outputs": [
    {
     "name": "stdout",
     "output_type": "stream",
     "text": [
      "[13 15  2 25]\n"
     ]
    }
   ],
   "source": [
    "# Imprime os valores da Series\n",
    "\n",
    "print(series_1.values)"
   ]
  },
  {
   "cell_type": "code",
   "execution_count": 11,
   "id": "cc43dfa3",
   "metadata": {},
   "outputs": [
    {
     "name": "stdout",
     "output_type": "stream",
     "text": [
      "RangeIndex(start=0, stop=4, step=1)\n"
     ]
    }
   ],
   "source": [
    "# Imprime os índices da Series (ele imprime a função que criou)\n",
    "\n",
    "print(series_1.index)"
   ]
  },
  {
   "cell_type": "code",
   "execution_count": 12,
   "id": "0adece51",
   "metadata": {},
   "outputs": [],
   "source": [
    "# Para definir manualmente os índices, se utiliza o argumento nomeado 'index' dentro da função Series\n",
    "\n",
    "series_2 = pd.Series([13, 15, 2, 25], index=['a','b','c','d'])"
   ]
  },
  {
   "cell_type": "code",
   "execution_count": 13,
   "id": "37911901",
   "metadata": {},
   "outputs": [
    {
     "name": "stdout",
     "output_type": "stream",
     "text": [
      "a    13\n",
      "b    15\n",
      "c     2\n",
      "d    25\n",
      "dtype: int64\n"
     ]
    }
   ],
   "source": [
    "print(series_2)"
   ]
  },
  {
   "cell_type": "code",
   "execution_count": 14,
   "id": "b338e7d3",
   "metadata": {},
   "outputs": [
    {
     "name": "stdout",
     "output_type": "stream",
     "text": [
      "Index(['a', 'b', 'c', 'd'], dtype='object')\n"
     ]
    }
   ],
   "source": [
    "print(series_2.index)"
   ]
  },
  {
   "cell_type": "code",
   "execution_count": 15,
   "id": "6ee5b403",
   "metadata": {},
   "outputs": [
    {
     "name": "stdout",
     "output_type": "stream",
     "text": [
      "int64\n"
     ]
    }
   ],
   "source": [
    "print(series_2.dtypes)"
   ]
  }
 ],
 "metadata": {
  "kernelspec": {
   "display_name": "Python 3 (ipykernel)",
   "language": "python",
   "name": "python3"
  },
  "language_info": {
   "codemirror_mode": {
    "name": "ipython",
    "version": 3
   },
   "file_extension": ".py",
   "mimetype": "text/x-python",
   "name": "python",
   "nbconvert_exporter": "python",
   "pygments_lexer": "ipython3",
   "version": "3.10.4"
  }
 },
 "nbformat": 4,
 "nbformat_minor": 5
}
