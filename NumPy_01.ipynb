{
 "cells": [
  {
   "cell_type": "markdown",
   "id": "9f814397",
   "metadata": {},
   "source": [
    "# NumPy"
   ]
  },
  {
   "cell_type": "markdown",
   "id": "98bd975f",
   "metadata": {},
   "source": [
    "NumPy - Numerical Python\n",
    "Biblioteca para cálculos matemáticos\n",
    "Fornece a base matemática necessária para análise de dados,\n",
    "Aprendizado de Máquina, Estatica, entre outros.\n",
    "Facilita:\n",
    "- A criação de Array Matrizes\n",
    "- A leitura de database\n",
    "- Álgebra linear"
   ]
  },
  {
   "cell_type": "code",
   "execution_count": 22,
   "id": "40252a16",
   "metadata": {},
   "outputs": [],
   "source": [
    "import numpy as np"
   ]
  },
  {
   "cell_type": "markdown",
   "id": "6da93559",
   "metadata": {},
   "source": [
    "Também é possivel importar desta forma:\n",
    "    \n",
    "from numpy import *"
   ]
  },
  {
   "cell_type": "markdown",
   "id": "1d0896b2",
   "metadata": {},
   "source": [
    "Lista de dados Python\n",
    "- Conjunto de valores de qualquer tipo:\n",
    "E.: lista = [1,20,'Texto', True, 2.3]\n",
    "\n",
    "Array NumPy:\n",
    "- Conjunto de valores de apenas um tipo;\n",
    "- São mais eficientes do que lista no que diz respeito o uso de memória do computaor;"
   ]
  },
  {
   "cell_type": "code",
   "execution_count": 23,
   "id": "a5370b17",
   "metadata": {},
   "outputs": [],
   "source": [
    " array_1 = np.array([1,2,3,4,5])"
   ]
  },
  {
   "cell_type": "code",
   "execution_count": 24,
   "id": "7f69c4a5",
   "metadata": {},
   "outputs": [
    {
     "name": "stdout",
     "output_type": "stream",
     "text": [
      "<class 'numpy.ndarray'>\n"
     ]
    }
   ],
   "source": [
    "print(type(array_1))"
   ]
  },
  {
   "cell_type": "code",
   "execution_count": 25,
   "id": "2b05d8c9",
   "metadata": {},
   "outputs": [
    {
     "name": "stdout",
     "output_type": "stream",
     "text": [
      "[1 2 3 4 5]\n"
     ]
    }
   ],
   "source": [
    "print(array_1)"
   ]
  },
  {
   "cell_type": "code",
   "execution_count": 26,
   "id": "6bb34ae2",
   "metadata": {},
   "outputs": [
    {
     "name": "stdout",
     "output_type": "stream",
     "text": [
      "2\n"
     ]
    }
   ],
   "source": [
    "print(array_1[1])"
   ]
  },
  {
   "cell_type": "code",
   "execution_count": 27,
   "id": "82b26f71",
   "metadata": {},
   "outputs": [
    {
     "name": "stdout",
     "output_type": "stream",
     "text": [
      "5\n"
     ]
    }
   ],
   "source": [
    "# Mostranto o tamanho da linha(quantos elemntos tem na linha)\n",
    "print(array_1.size)"
   ]
  },
  {
   "cell_type": "markdown",
   "id": "8a57eb4e",
   "metadata": {},
   "source": [
    "# Propiedades/Atributos do NumPy"
   ]
  },
  {
   "cell_type": "code",
   "execution_count": 28,
   "id": "b0756e53",
   "metadata": {},
   "outputs": [
    {
     "name": "stdout",
     "output_type": "stream",
     "text": [
      "(5,)\n"
     ]
    }
   ],
   "source": [
    "# Shape retorna a dimensão/formato do array\n",
    "print(array_1.shape)"
   ]
  },
  {
   "cell_type": "code",
   "execution_count": 29,
   "id": "f3001692",
   "metadata": {},
   "outputs": [
    {
     "name": "stdout",
     "output_type": "stream",
     "text": [
      "int32\n"
     ]
    }
   ],
   "source": [
    "# Retorna o tipo dos dados amazenados\n",
    "print(array_1.dtype)"
   ]
  },
  {
   "cell_type": "code",
   "execution_count": 30,
   "id": "a393c338",
   "metadata": {},
   "outputs": [
    {
     "name": "stdout",
     "output_type": "stream",
     "text": [
      "4\n"
     ]
    }
   ],
   "source": [
    "# Mostra tamanho que cada elemento ocupa na memória \n",
    "print(array_1.itemsize)"
   ]
  },
  {
   "cell_type": "code",
   "execution_count": 31,
   "id": "668a8254",
   "metadata": {},
   "outputs": [
    {
     "name": "stdout",
     "output_type": "stream",
     "text": [
      "20\n"
     ]
    }
   ],
   "source": [
    "# Retorna o quanto ele ocupa de memória no total (4 vezes 5 = 20 (20 espaços de memória dos elemanto))\n",
    "print(array_1.nbytes)"
   ]
  },
  {
   "cell_type": "markdown",
   "id": "c78daeb2",
   "metadata": {},
   "source": [
    "# Tipos de Arrays"
   ]
  },
  {
   "cell_type": "code",
   "execution_count": 32,
   "id": "a4da4edc",
   "metadata": {},
   "outputs": [
    {
     "name": "stdout",
     "output_type": "stream",
     "text": [
      "[1 2 3 4 5]\n"
     ]
    }
   ],
   "source": [
    "# Array de inteitos \n",
    "array_inteiros = np.array([1,2,3,4,5])\n",
    "print(array_inteiros)"
   ]
  },
  {
   "cell_type": "code",
   "execution_count": 33,
   "id": "8444c3f2",
   "metadata": {},
   "outputs": [
    {
     "name": "stdout",
     "output_type": "stream",
     "text": [
      "[ 2.5  1.   5.2 10.2]\n"
     ]
    }
   ],
   "source": [
    "# Arre=ay de Números Reais\n",
    "array_reais = np.array([2.5,1.0,5.2,10.2])\n",
    "print(array_reais)"
   ]
  },
  {
   "cell_type": "code",
   "execution_count": 34,
   "id": "f9ee0bf7",
   "metadata": {},
   "outputs": [
    {
     "name": "stdout",
     "output_type": "stream",
     "text": [
      "['Python' 'JavaScript' 'Java']\n"
     ]
    }
   ],
   "source": [
    "# Array de Strings\n",
    "array_strings = np.array(['Python', 'JavaScript', 'Java'])\n",
    "print(array_strings)"
   ]
  },
  {
   "cell_type": "code",
   "execution_count": 35,
   "id": "92e9b550",
   "metadata": {},
   "outputs": [
    {
     "name": "stdout",
     "output_type": "stream",
     "text": [
      "[ True  True False]\n"
     ]
    }
   ],
   "source": [
    "# Array de valores Booleanos\n",
    "array_booleanos = np.array([True, True, False])\n",
    "print(array_booleanos)"
   ]
  },
  {
   "cell_type": "code",
   "execution_count": 36,
   "id": "359c1bf3",
   "metadata": {},
   "outputs": [
    {
     "name": "stdout",
     "output_type": "stream",
     "text": [
      "float32\n",
      "[ 5.  2.  1. 67.  1.]\n"
     ]
    }
   ],
   "source": [
    "array_reais_forcado = np.array([5, 2 , 1, 67, 1], dtype=np.float32)\n",
    "print(array_reais_forcado.dtype)\n",
    "print(array_reais_forcado)"
   ]
  },
  {
   "cell_type": "markdown",
   "id": "147fd70c",
   "metadata": {},
   "source": [
    "# Matiz"
   ]
  },
  {
   "cell_type": "code",
   "execution_count": 37,
   "id": "9961ffa3",
   "metadata": {},
   "outputs": [
    {
     "name": "stdout",
     "output_type": "stream",
     "text": [
      "[[1 2]\n",
      " [3 4]\n",
      " [4 5]\n",
      " [5 6]]\n"
     ]
    }
   ],
   "source": [
    "matriz_1 = np.array([[1, 2], [3, 4], [4, 5], [5, 6]])\n",
    "print(matriz_1)"
   ]
  },
  {
   "cell_type": "code",
   "execution_count": 38,
   "id": "dfe0c8d6",
   "metadata": {},
   "outputs": [
    {
     "name": "stdout",
     "output_type": "stream",
     "text": [
      "(4, 2)\n"
     ]
    }
   ],
   "source": [
    "# A dimeção dessa coluna é 4(linhas) por 2 (colunas)\n",
    "\n",
    "print(matriz_1.shape)"
   ]
  },
  {
   "cell_type": "code",
   "execution_count": 39,
   "id": "93a13461",
   "metadata": {},
   "outputs": [
    {
     "name": "stdout",
     "output_type": "stream",
     "text": [
      "5\n",
      "4\n"
     ]
    }
   ],
   "source": [
    "# Para imprimir basta informar a linha e coluna entre colchetes\n",
    "\n",
    "print(matriz_1[2][1])\n",
    "# Imprimir de outra forma\n",
    "print(matriz_1[2,0])"
   ]
  },
  {
   "cell_type": "code",
   "execution_count": 40,
   "id": "0b8cde59",
   "metadata": {},
   "outputs": [
    {
     "name": "stdout",
     "output_type": "stream",
     "text": [
      "10\n",
      "15\n",
      "[[ 1  2]\n",
      " [ 3  4]\n",
      " [15 10]\n",
      " [ 5  6]]\n"
     ]
    }
   ],
   "source": [
    "# Para substituir também utiliza colchetes\n",
    "matriz_1[2][1] = 10\n",
    "print(matriz_1[2][1])\n",
    "\n",
    "# Outra forma\n",
    "matriz_1[2][0] = 15\n",
    "print(matriz_1[2,0])\n",
    "\n",
    "# Matriz completa com os dados substituidos\n",
    "print(matriz_1)"
   ]
  },
  {
   "cell_type": "markdown",
   "id": "d5fa95ef",
   "metadata": {},
   "source": [
    "# Funções para Array"
   ]
  },
  {
   "cell_type": "code",
   "execution_count": 41,
   "id": "ae39dc8e",
   "metadata": {},
   "outputs": [
    {
     "name": "stdout",
     "output_type": "stream",
     "text": [
      "[ 2  5  6 11 21]\n"
     ]
    }
   ],
   "source": [
    "# Cumsum - retorna uma matriz com a soma acumulada dos valores\n",
    "\n",
    "array_2 = np.array([2, 3, 1, 5, 10])\n",
    "print(array_2.cumsum())"
   ]
  },
  {
   "cell_type": "code",
   "execution_count": 42,
   "id": "02b8d242",
   "metadata": {},
   "outputs": [
    {
     "name": "stdout",
     "output_type": "stream",
     "text": [
      "[0 1 2 3 4]\n",
      "[2 4 6 8]\n"
     ]
    }
   ],
   "source": [
    "# Cria uma matriz seguindo a logica do range nativo do python\n",
    "\n",
    "array_3 = np.arange(5)\n",
    "print(array_3)\n",
    "\n",
    "array_4 = np.arange(2, 10, 2)\n",
    "print(array_4)"
   ]
  },
  {
   "cell_type": "code",
   "execution_count": 43,
   "id": "ff8d029c",
   "metadata": {},
   "outputs": [
    {
     "name": "stdout",
     "output_type": "stream",
     "text": [
      "[ 1.  4.  7. 10.]\n"
     ]
    }
   ],
   "source": [
    "# Linspace\n",
    "# Cria um array com elementos espacados igualmente\n",
    "# Entre um valor inicial e facil\n",
    "# Linspace(inicio, fim, quantidade de elememtos entre eles)\n",
    "\n",
    "array_5 = np.linspace(1, 10, 4)\n",
    "print(array_5)"
   ]
  },
  {
   "cell_type": "code",
   "execution_count": 44,
   "id": "13737f55",
   "metadata": {},
   "outputs": [
    {
     "name": "stdout",
     "output_type": "stream",
     "text": [
      "[0. 0. 0. 0. 0. 0. 0. 0. 0. 0. 0. 0. 0. 0. 0.]\n"
     ]
    }
   ],
   "source": [
    "#Zeros cria um array somente com elementos zeros \n",
    "\n",
    "array_6 = np.zeros(15)\n",
    "print(array_6)"
   ]
  },
  {
   "cell_type": "code",
   "execution_count": 45,
   "id": "db2c9e98",
   "metadata": {},
   "outputs": [
    {
     "name": "stdout",
     "output_type": "stream",
     "text": [
      "False\n"
     ]
    }
   ],
   "source": [
    "# array_equal\n",
    "# compara se 2 arrays são iguais (true ou false)\n",
    "array_7 = np.array([1,2,3,4])\n",
    "array_8 = np.array([5,6,7,8])\n",
    "print(np.array_equal(array_7, array_8))"
   ]
  },
  {
   "cell_type": "code",
   "execution_count": 46,
   "id": "c3083cfb",
   "metadata": {},
   "outputs": [
    {
     "name": "stdout",
     "output_type": "stream",
     "text": [
      "True\n"
     ]
    }
   ],
   "source": [
    "array_9 = np.array([1,2,3,4])\n",
    "array_10 = np.array([1,2,3,4])\n",
    "print(np.array_equal(array_9, array_10))"
   ]
  },
  {
   "cell_type": "code",
   "execution_count": 47,
   "id": "25ee4e18",
   "metadata": {},
   "outputs": [
    {
     "name": "stdout",
     "output_type": "stream",
     "text": [
      "1\n"
     ]
    }
   ],
   "source": [
    "# min\n",
    "# Retorna o menor valor\n",
    "\n",
    "print(array_10.min())"
   ]
  },
  {
   "cell_type": "code",
   "execution_count": 48,
   "id": "6dfa6e44",
   "metadata": {},
   "outputs": [
    {
     "name": "stdout",
     "output_type": "stream",
     "text": [
      "4\n"
     ]
    }
   ],
   "source": [
    "# max\n",
    "# Retorna o maior valor (máximo)\n",
    "\n",
    "print(array_10.max())"
   ]
  },
  {
   "cell_type": "code",
   "execution_count": 49,
   "id": "ea6dd193",
   "metadata": {},
   "outputs": [
    {
     "name": "stdout",
     "output_type": "stream",
     "text": [
      "[1 2 3 4]\n",
      "[1 1 1 2 2 2 3 3 3 4 4 4]\n"
     ]
    }
   ],
   "source": [
    "# repeat\n",
    "# Cria um novo array com os elemento repetidos\n",
    "# Repete por número\n",
    "\n",
    "print(array_10)\n",
    "print(np.repeat(array_10, 3))"
   ]
  },
  {
   "cell_type": "code",
   "execution_count": 50,
   "id": "4f6b4edd",
   "metadata": {},
   "outputs": [
    {
     "name": "stdout",
     "output_type": "stream",
     "text": [
      "[1 2 3 4]\n",
      "[1 2 3 4 1 2 3 4 1 2 3 4]\n"
     ]
    }
   ],
   "source": [
    "# tile\n",
    "# Repete os elemento de uma array\n",
    "# Repete os elemnetos na ordem original do array\n",
    "\n",
    "print(array_10)\n",
    "print(np.tile(array_10, 3))"
   ]
  },
  {
   "cell_type": "code",
   "execution_count": 51,
   "id": "cc1d5874",
   "metadata": {},
   "outputs": [
    {
     "name": "stdout",
     "output_type": "stream",
     "text": [
      "[1 2 3 4 5 6 7 8]\n"
     ]
    }
   ],
   "source": [
    "# concatenate\n",
    "# Junta 2 array e gera um com todos os elementos\n",
    "\n",
    "print(np.concatenate((array_7, array_8), axis=0))"
   ]
  },
  {
   "cell_type": "markdown",
   "id": "6b6e3657",
   "metadata": {},
   "source": [
    "# Funções para Matriz"
   ]
  },
  {
   "cell_type": "code",
   "execution_count": 52,
   "id": "fdb198d5",
   "metadata": {},
   "outputs": [
    {
     "name": "stdout",
     "output_type": "stream",
     "text": [
      "[[1. 0. 0.]\n",
      " [0. 1. 0.]\n",
      " [0. 0. 1.]]\n"
     ]
    }
   ],
   "source": [
    "# eye - cria matriz quadrada, todos os elementos são zero com execeção\n",
    "# dos elementos que foram a diagonal principal, estes recebem o valor 1\n",
    "\n",
    "matriz_2 = np.eye(3)\n",
    "print(matriz_2)"
   ]
  },
  {
   "cell_type": "code",
   "execution_count": 53,
   "id": "419c06b7",
   "metadata": {},
   "outputs": [
    {
     "name": "stdout",
     "output_type": "stream",
     "text": [
      "[[2 0 0 0]\n",
      " [0 4 0 0]\n",
      " [0 0 1 0]\n",
      " [0 0 0 0]]\n"
     ]
    }
   ],
   "source": [
    "# DIAG\n",
    "# Define os elementos que ficarão na giagonal principal da matriz\n",
    "\n",
    "matriz_3 = np.diag(np.array([2,4,1,0]))\n",
    "print(matriz_3)"
   ]
  },
  {
   "cell_type": "code",
   "execution_count": 54,
   "id": "1f7310a5",
   "metadata": {},
   "outputs": [
    {
     "name": "stdout",
     "output_type": "stream",
     "text": [
      "[[1. 1. 1. 1.]\n",
      " [1. 1. 1. 1.]\n",
      " [1. 1. 1. 1.]]\n"
     ]
    }
   ],
   "source": [
    "# Ones\n",
    "# Cria uma matriz com todos os valores sendo 1\n",
    "\n",
    "matriz_4 = np.ones((3,4))\n",
    "print(matriz_4)"
   ]
  },
  {
   "cell_type": "code",
   "execution_count": 55,
   "id": "6984bbed",
   "metadata": {},
   "outputs": [
    {
     "name": "stdout",
     "output_type": "stream",
     "text": [
      "[[1 2 3]\n",
      " [4 5 6]\n",
      " [7 8 9]]\n"
     ]
    }
   ],
   "source": [
    "# Matriz\n",
    "# Coverte listas bidimencional em matriz numpy\n",
    "\n",
    "lista_bidimensional = [[1,2,3],[4,5,6],[7,8,9]]\n",
    "matriz_5 = np.matrix(lista_bidimensional)\n",
    "print(matriz_5)"
   ]
  },
  {
   "cell_type": "code",
   "execution_count": 56,
   "id": "8ac67396",
   "metadata": {},
   "outputs": [
    {
     "name": "stdout",
     "output_type": "stream",
     "text": [
      "[[1 2 3 4 5 6 7 8 9]]\n"
     ]
    }
   ],
   "source": [
    "# flatten\n",
    "# transforma a matris principal em uma nova em que todos os elementos ficarão na primeira linha\n",
    "\n",
    "array_11 = matriz_5.flatten()\n",
    "print(array_11)"
   ]
  },
  {
   "cell_type": "markdown",
   "id": "6081dc91",
   "metadata": {},
   "source": [
    "# Propriedade para Matriz"
   ]
  },
  {
   "cell_type": "code",
   "execution_count": 57,
   "id": "36267aba",
   "metadata": {},
   "outputs": [
    {
     "name": "stdout",
     "output_type": "stream",
     "text": [
      "(3, 3)\n"
     ]
    }
   ],
   "source": [
    "# shape\n",
    "# imprime quantas linhas e colunas a matriz possui\n",
    "\n",
    "print(matriz_5.shape)"
   ]
  },
  {
   "cell_type": "code",
   "execution_count": 58,
   "id": "850f97d3",
   "metadata": {},
   "outputs": [
    {
     "name": "stdout",
     "output_type": "stream",
     "text": [
      "2\n"
     ]
    }
   ],
   "source": [
    "# ndim\n",
    "# Retorna a dimensão da matriz\n",
    "\n",
    "print(matriz_5.ndim)"
   ]
  },
  {
   "cell_type": "code",
   "execution_count": 59,
   "id": "22453d1e",
   "metadata": {},
   "outputs": [
    {
     "name": "stdout",
     "output_type": "stream",
     "text": [
      "9\n"
     ]
    }
   ],
   "source": [
    "# size\n",
    "# Retrona quantos elementos possui a matriz\n",
    "print(matriz_5.size)"
   ]
  },
  {
   "cell_type": "markdown",
   "id": "f8142530",
   "metadata": {},
   "source": [
    "# Slicing em Arrays"
   ]
  },
  {
   "cell_type": "code",
   "execution_count": 60,
   "id": "c7858d81",
   "metadata": {},
   "outputs": [
    {
     "name": "stdout",
     "output_type": "stream",
     "text": [
      "[10  4  2  1 11 44]\n"
     ]
    }
   ],
   "source": [
    "array_12 = np.array([10, 4, 2, 1, 11, 44])\n",
    "print(array_12)"
   ]
  },
  {
   "cell_type": "code",
   "execution_count": 61,
   "id": "0f64e6a1",
   "metadata": {},
   "outputs": [
    {
     "name": "stdout",
     "output_type": "stream",
     "text": [
      "2\n"
     ]
    }
   ],
   "source": [
    "# Imprime o terceiro elemento do array\n",
    "print(array_12[2])"
   ]
  },
  {
   "cell_type": "code",
   "execution_count": 62,
   "id": "3ad00548",
   "metadata": {},
   "outputs": [
    {
     "name": "stdout",
     "output_type": "stream",
     "text": [
      "[4 2]\n"
     ]
    }
   ],
   "source": [
    "# Utilizando slicing é possível retornar uma parte do array\n",
    "# No exemplo a seguir, retorna os elementos da posição 1 até a 3\n",
    "print(array_12[1:3])"
   ]
  },
  {
   "cell_type": "code",
   "execution_count": 63,
   "id": "179267e5",
   "metadata": {},
   "outputs": [
    {
     "name": "stdout",
     "output_type": "stream",
     "text": [
      "[10  2 11]\n"
     ]
    }
   ],
   "source": [
    "# No exemplo a seguir, retornará os elementos nas posições 1, 3 e 5\n",
    "print(array_12[::2])"
   ]
  },
  {
   "cell_type": "code",
   "execution_count": 64,
   "id": "30761f89",
   "metadata": {},
   "outputs": [
    {
     "name": "stdout",
     "output_type": "stream",
     "text": [
      "[10  1]\n"
     ]
    }
   ],
   "source": [
    "# No exemplo a seguir, retornará os elementos das posições 0 e 3 (salto será 3)\n",
    "print(array_12[0:4:3])"
   ]
  },
  {
   "cell_type": "markdown",
   "id": "4d73482f",
   "metadata": {},
   "source": [
    "# Trabalhando com Dataset"
   ]
  },
  {
   "cell_type": "code",
   "execution_count": 65,
   "id": "91524254",
   "metadata": {},
   "outputs": [],
   "source": [
    "arquivo = np.loadtxt('country_wise_latest.csv', delimiter=',', usecols=(1,2,3), skiprows=1, dtype=np.int32)\n"
   ]
  },
  {
   "cell_type": "code",
   "execution_count": 66,
   "id": "407103fb",
   "metadata": {},
   "outputs": [
    {
     "name": "stdout",
     "output_type": "stream",
     "text": [
      "[[  36263    1269   25198]\n",
      " [   4880     144    2745]\n",
      " [  27973    1163   18837]\n",
      " [    907      52     803]\n",
      " [    950      41     242]\n",
      " [     86       3      65]\n",
      " [ 167416    3059   72575]\n",
      " [  37390     711   26665]\n",
      " [  15303     167    9311]\n",
      " [  20558     713   18246]\n",
      " [  30446     423   23242]\n",
      " [    382      11      91]\n",
      " [  39482     141   36110]\n",
      " [ 226225    2965  125683]\n",
      " [    110       7      94]\n",
      " [  67251     538   60492]\n",
      " [  66428    9822   17452]\n",
      " [     48       2      26]\n",
      " [   1770      35    1036]\n",
      " [     99       0      86]\n",
      " [  71181    2647   21478]\n",
      " [  10498     294    4930]\n",
      " [    739       2      63]\n",
      " [2442375   87618 1846641]\n",
      " [    141       3     138]\n",
      " [  10621     347    5585]\n",
      " [   1100      53     926]\n",
      " [    350       6     292]\n",
      " [    378       1     301]\n",
      " [   2328      22    1550]\n",
      " [    226       0     147]\n",
      " [  17110     391   14539]\n",
      " [ 116458    8944       0]\n",
      " [   4599      59    1546]\n",
      " [    922      75     810]\n",
      " [ 347923    9187  319954]\n",
      " [  86783    4656   78869]\n",
      " [ 257101    8777  131161]\n",
      " [    354       7     328]\n",
      " [   3200      54     829]\n",
      " [   8844     208    5700]\n",
      " [  15841     115    3824]\n",
      " [  15655      96   10361]\n",
      " [   4881     139    3936]\n",
      " [   2532      87    2351]\n",
      " [   1060      19     852]\n",
      " [  15516     373   11428]\n",
      " [  13761     613   12605]\n",
      " [   5059      58    4977]\n",
      " [     18       0      18]\n",
      " [  64156    1083   30204]\n",
      " [  81161    5532   34896]\n",
      " [  92482    4652   34838]\n",
      " [  15035     408    7778]\n",
      " [   3071      51     842]\n",
      " [    265       0     191]\n",
      " [   2034      69    1923]\n",
      " [   2316      34    1025]\n",
      " [  14547     228    6386]\n",
      " [     27       0      18]\n",
      " [   7398     329    6920]\n",
      " [ 220352   30212   81212]\n",
      " [   7189      49    4682]\n",
      " [    326       8      66]\n",
      " [   1137      16     922]\n",
      " [ 207112    9125  190314]\n",
      " [  33624     168   29801]\n",
      " [   4227     202    1374]\n",
      " [     14       0      13]\n",
      " [     23       0      23]\n",
      " [  45309    1761   32455]\n",
      " [   7055      45    6257]\n",
      " [   1954      26     803]\n",
      " [    389      20     181]\n",
      " [   7340     158    4365]\n",
      " [     12       0      12]\n",
      " [  39741    1166    5039]\n",
      " [   4448     596    3329]\n",
      " [   1854      10    1823]\n",
      " [1480073   33408  951166]\n",
      " [ 100303    4838   58173]\n",
      " [ 293606   15912  255144]\n",
      " [ 112585    4458   77144]\n",
      " [  25892    1764   23364]\n",
      " [  63985     474   27133]\n",
      " [ 246286   35112  198593]\n",
      " [    853      10     714]\n",
      " [  31142     998   21970]\n",
      " [   1176      11    1041]\n",
      " [  84648     585   54404]\n",
      " [  17975     285    7833]\n",
      " [   7413     185    4027]\n",
      " [  64379     438   55057]\n",
      " [  33296    1301   21205]\n",
      " [     20       0      19]\n",
      " [   1219      31    1045]\n",
      " [   3882      51    1709]\n",
      " [    505      12     128]\n",
      " [   1167      72     646]\n",
      " [   2827      64     577]\n",
      " [     86       1      81]\n",
      " [   2019      80    1620]\n",
      " [   6321     112    4825]\n",
      " [   9690      91    6260]\n",
      " [   3664      99    1645]\n",
      " [   8904     124    8601]\n",
      " [   3369      15    2547]\n",
      " [   2513     124    1913]\n",
      " [    701       9     665]\n",
      " [   6208     156    4653]\n",
      " [    344      10     332]\n",
      " [ 395489   44022  303810]\n",
      " [  23154     748   16154]\n",
      " [    116       4     104]\n",
      " [    289       0     222]\n",
      " [   2893      45     809]\n",
      " [  20887     316   16553]\n",
      " [   1701      11       0]\n",
      " [   1843       8     101]\n",
      " [  18752      48   13754]\n",
      " [  53413    6160     189]\n",
      " [   1557      22    1514]\n",
      " [   3439     108    2492]\n",
      " [   1132      69    1027]\n",
      " [  41180     860   18203]\n",
      " [  10213     466    5564]\n",
      " [   9132     255    8752]\n",
      " [  77058     393   57028]\n",
      " [ 274289    5842  241026]\n",
      " [  61442    1322   35086]\n",
      " [     62       0      11]\n",
      " [   4548      43    2905]\n",
      " [ 389717   18418  272547]\n",
      " [  82040    1945   26446]\n",
      " [  43402    1676   32856]\n",
      " [  50299    1719   35375]\n",
      " [ 109597     165  106328]\n",
      " [  45902    2206   25794]\n",
      " [ 816680   13334  602249]\n",
      " [   1879       5     975]\n",
      " [     17       0      15]\n",
      " [     24       0      22]\n",
      " [     52       0      39]\n",
      " [    699      42     657]\n",
      " [    865      14     734]\n",
      " [ 268934    2760  222936]\n",
      " [   9764     194    6477]\n",
      " [  24141     543       0]\n",
      " [    114       0      39]\n",
      " [   1783      66    1317]\n",
      " [  50838      27   45692]\n",
      " [   2181      28    1616]\n",
      " [   2087     116    1733]\n",
      " [   3196      93    1543]\n",
      " [ 452529    7067  274925]\n",
      " [  14203     300   13007]\n",
      " [   2305      46    1175]\n",
      " [ 272421   28432  150376]\n",
      " [   2805      11    2121]\n",
      " [  11424     720    5939]\n",
      " [   1483      24     925]\n",
      " [  79395    5700       0]\n",
      " [  34477    1978   30900]\n",
      " [    674      40       0]\n",
      " [    462       7     440]\n",
      " [   7235      60    6028]\n",
      " [    509      21     183]\n",
      " [   3297      58    3111]\n",
      " [     24       0       0]\n",
      " [    874      18     607]\n",
      " [    148       8     128]\n",
      " [   1455      50    1157]\n",
      " [ 227019    5630  210469]\n",
      " [4290259  148011 1325804]\n",
      " [   1128       2     986]\n",
      " [  67096    1636   37202]\n",
      " [  59177     345   52510]\n",
      " [ 301708   45844    1437]\n",
      " [   1202      35     951]\n",
      " [  21209     121   11674]\n",
      " [  15988     146    9959]\n",
      " [    431       0     365]\n",
      " [  10621      78    3752]\n",
      " [     10       1       8]\n",
      " [   1691     483     833]\n",
      " [   4552     140    2815]\n",
      " [   2704      36     542]]\n"
     ]
    }
   ],
   "source": [
    "print(arquivo)"
   ]
  },
  {
   "cell_type": "markdown",
   "id": "fe097f0b",
   "metadata": {},
   "source": [
    "# Conceitos Básicos de Estatística"
   ]
  },
  {
   "cell_type": "code",
   "execution_count": 67,
   "id": "9a35208e",
   "metadata": {},
   "outputs": [],
   "source": [
    "array_13 = np.array([15, 23, 72, 22])"
   ]
  },
  {
   "cell_type": "code",
   "execution_count": 68,
   "id": "b385fd75",
   "metadata": {},
   "outputs": [
    {
     "name": "stdout",
     "output_type": "stream",
     "text": [
      "132\n"
     ]
    }
   ],
   "source": [
    "# sum\n",
    "# Retorna o resultado da soma de todos os elementos\n",
    "print(np.sum(array_13))"
   ]
  },
  {
   "cell_type": "code",
   "execution_count": 69,
   "id": "8a5a34a2",
   "metadata": {},
   "outputs": [
    {
     "name": "stdout",
     "output_type": "stream",
     "text": [
      "546480\n"
     ]
    }
   ],
   "source": [
    "# prod\n",
    "# Retorna o resultado do produto(multiplicação) de todos os elementos\n",
    "print(np.prod(array_13))"
   ]
  },
  {
   "cell_type": "code",
   "execution_count": 70,
   "id": "89287aa0",
   "metadata": {},
   "outputs": [
    {
     "name": "stdout",
     "output_type": "stream",
     "text": [
      "[ 15  38 110 132]\n"
     ]
    }
   ],
   "source": [
    "# cumsum\n",
    "# Retorna uma array com o resultado da soma acumulada de todos os elementos\n",
    "print(np.cumsum(array_13))"
   ]
  },
  {
   "cell_type": "code",
   "execution_count": 71,
   "id": "18384c42",
   "metadata": {},
   "outputs": [
    {
     "name": "stdout",
     "output_type": "stream",
     "text": [
      "33.0\n"
     ]
    }
   ],
   "source": [
    "# mean\n",
    "# Retorna a média entre os elementos do array\n",
    "print(np.mean(array_13))"
   ]
  },
  {
   "cell_type": "code",
   "execution_count": 74,
   "id": "bd4d7a51",
   "metadata": {},
   "outputs": [
    {
     "name": "stdout",
     "output_type": "stream",
     "text": [
      "22.5\n"
     ]
    }
   ],
   "source": [
    "# Mediana\n",
    "# Retorna o valor central do array (entre os array do meio)\n",
    "print(np.median(array_13))"
   ]
  },
  {
   "cell_type": "code",
   "execution_count": 75,
   "id": "5b26dadd",
   "metadata": {},
   "outputs": [
    {
     "name": "stdout",
     "output_type": "stream",
     "text": [
      "22.726636354727024\n"
     ]
    }
   ],
   "source": [
    "# Desvio Padrão\n",
    "# Variação dos dados em relação à média\n",
    "# Também chamado de dispersão\n",
    "print(np.std(array_13))"
   ]
  },
  {
   "cell_type": "code",
   "execution_count": 72,
   "id": "dd49b7d1",
   "metadata": {},
   "outputs": [
    {
     "name": "stdout",
     "output_type": "stream",
     "text": [
      "[12 15 18]\n"
     ]
    }
   ],
   "source": [
    "matriz = [[1,2,3],[4,5,6],[7,8,9]]\n",
    "print(np.sum(matriz, axis=0))"
   ]
  }
 ],
 "metadata": {
  "kernelspec": {
   "display_name": "Python 3 (ipykernel)",
   "language": "python",
   "name": "python3"
  },
  "language_info": {
   "codemirror_mode": {
    "name": "ipython",
    "version": 3
   },
   "file_extension": ".py",
   "mimetype": "text/x-python",
   "name": "python",
   "nbconvert_exporter": "python",
   "pygments_lexer": "ipython3",
   "version": "3.10.4"
  }
 },
 "nbformat": 4,
 "nbformat_minor": 5
}
