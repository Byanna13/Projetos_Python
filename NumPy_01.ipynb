{
 "cells": [
  {
   "cell_type": "markdown",
   "id": "9f814397",
   "metadata": {},
   "source": [
    "# NumPy"
   ]
  },
  {
   "cell_type": "markdown",
   "id": "98bd975f",
   "metadata": {},
   "source": [
    "NumPy - Numerical Python\n",
    "Biblioteca para cálculos matemáticos\n",
    "Fornece a base matemática necessária para análise de dados,\n",
    "Aprendizado de Máquina, Estatica, entre outros.\n",
    "Facilita:\n",
    "- A criação de Array Matrizes\n",
    "- A leitura de database\n",
    "- Álgebra linear"
   ]
  },
  {
   "cell_type": "code",
   "execution_count": 1,
   "id": "40252a16",
   "metadata": {},
   "outputs": [],
   "source": [
    "import numpy as np"
   ]
  },
  {
   "cell_type": "markdown",
   "id": "6da93559",
   "metadata": {},
   "source": [
    "Também é possivel importar desta forma:\n",
    "    \n",
    "from numpy import *"
   ]
  },
  {
   "cell_type": "markdown",
   "id": "1d0896b2",
   "metadata": {},
   "source": [
    "Lista de dados Python\n",
    "- Conjunto de valores de qualquer tipo:\n",
    "E.: lista = [1,20,'Texto', True, 2.3]\n",
    "\n",
    "Array NumPy:\n",
    "- Conjunto de valores de apenas um tipo;\n",
    "- São mais eficientes do que lista no que diz respeito o uso de memória do computaor;"
   ]
  },
  {
   "cell_type": "code",
   "execution_count": 6,
   "id": "a5370b17",
   "metadata": {},
   "outputs": [],
   "source": [
    " array_1 = np.array([1,2,3,4,5])"
   ]
  },
  {
   "cell_type": "code",
   "execution_count": 7,
   "id": "7f69c4a5",
   "metadata": {},
   "outputs": [
    {
     "name": "stdout",
     "output_type": "stream",
     "text": [
      "<class 'numpy.ndarray'>\n"
     ]
    }
   ],
   "source": [
    "print(type(array_1))"
   ]
  },
  {
   "cell_type": "code",
   "execution_count": 8,
   "id": "2b05d8c9",
   "metadata": {},
   "outputs": [
    {
     "name": "stdout",
     "output_type": "stream",
     "text": [
      "[1 2 3 4 5]\n"
     ]
    }
   ],
   "source": [
    "print(array_1)"
   ]
  },
  {
   "cell_type": "code",
   "execution_count": 11,
   "id": "6bb34ae2",
   "metadata": {},
   "outputs": [
    {
     "name": "stdout",
     "output_type": "stream",
     "text": [
      "2\n"
     ]
    }
   ],
   "source": [
    "print(array_1[1])"
   ]
  },
  {
   "cell_type": "code",
   "execution_count": 14,
   "id": "82b26f71",
   "metadata": {},
   "outputs": [
    {
     "name": "stdout",
     "output_type": "stream",
     "text": [
      "5\n"
     ]
    }
   ],
   "source": [
    "# Mostranto o tamanho da linha(quantos elemntos tem na linha)\n",
    "print(array_1.size)"
   ]
  },
  {
   "cell_type": "markdown",
   "id": "8a57eb4e",
   "metadata": {},
   "source": [
    "# Propiedades/Atributos do NumPy"
   ]
  },
  {
   "cell_type": "code",
   "execution_count": 15,
   "id": "b0756e53",
   "metadata": {},
   "outputs": [
    {
     "name": "stdout",
     "output_type": "stream",
     "text": [
      "(5,)\n"
     ]
    }
   ],
   "source": [
    "# Shape retorna a dimensão/formato do array\n",
    "print(array_1.shape)"
   ]
  },
  {
   "cell_type": "code",
   "execution_count": 16,
   "id": "f3001692",
   "metadata": {},
   "outputs": [
    {
     "name": "stdout",
     "output_type": "stream",
     "text": [
      "int32\n"
     ]
    }
   ],
   "source": [
    "# Retorna o tipo dos dados amazenados\n",
    "print(array_1.dtype)"
   ]
  },
  {
   "cell_type": "code",
   "execution_count": 17,
   "id": "a393c338",
   "metadata": {},
   "outputs": [
    {
     "name": "stdout",
     "output_type": "stream",
     "text": [
      "4\n"
     ]
    }
   ],
   "source": [
    "# Mostra tamanho que cada elemento ocupa na memória \n",
    "print(array_1.itemsize)"
   ]
  },
  {
   "cell_type": "code",
   "execution_count": 18,
   "id": "668a8254",
   "metadata": {},
   "outputs": [
    {
     "name": "stdout",
     "output_type": "stream",
     "text": [
      "20\n"
     ]
    }
   ],
   "source": [
    "# Retorna o quanto ele ocupa de memória no total (4 vezes 5 = 20 (20 espaços de memória dos elemanto))\n",
    "print(array_1.nbytes)"
   ]
  },
  {
   "cell_type": "markdown",
   "id": "c78daeb2",
   "metadata": {},
   "source": [
    "# Tipos de Arrays"
   ]
  },
  {
   "cell_type": "code",
   "execution_count": 19,
   "id": "a4da4edc",
   "metadata": {},
   "outputs": [
    {
     "name": "stdout",
     "output_type": "stream",
     "text": [
      "[1 2 3 4 5]\n"
     ]
    }
   ],
   "source": [
    "# Array de inteitos \n",
    "array_inteiros = np.array([1,2,3,4,5])\n",
    "print(array_inteiros)"
   ]
  },
  {
   "cell_type": "code",
   "execution_count": 20,
   "id": "8444c3f2",
   "metadata": {},
   "outputs": [
    {
     "name": "stdout",
     "output_type": "stream",
     "text": [
      "[ 2.5  1.   5.2 10.2]\n"
     ]
    }
   ],
   "source": [
    "# Arre=ay de Números Reais\n",
    "array_reais = np.array([2.5,1.0,5.2,10.2])\n",
    "print(array_reais)"
   ]
  },
  {
   "cell_type": "code",
   "execution_count": 21,
   "id": "f9ee0bf7",
   "metadata": {},
   "outputs": [
    {
     "name": "stdout",
     "output_type": "stream",
     "text": [
      "['Python' 'JavaScript' 'Java']\n"
     ]
    }
   ],
   "source": [
    "# Array de Strings\n",
    "array_strings = np.array(['Python', 'JavaScript', 'Java'])\n",
    "print(array_strings)"
   ]
  },
  {
   "cell_type": "code",
   "execution_count": 22,
   "id": "92e9b550",
   "metadata": {},
   "outputs": [
    {
     "name": "stdout",
     "output_type": "stream",
     "text": [
      "[ True  True False]\n"
     ]
    }
   ],
   "source": [
    "# Array de valores Booleanos\n",
    "array_booleanos = np.array([True, True, False])\n",
    "print(array_booleanos)"
   ]
  },
  {
   "cell_type": "code",
   "execution_count": 28,
   "id": "359c1bf3",
   "metadata": {},
   "outputs": [
    {
     "name": "stdout",
     "output_type": "stream",
     "text": [
      "float32\n",
      "[ 5.  2.  1. 67.  1.]\n"
     ]
    }
   ],
   "source": [
    "array_reais_forcado = np.array([5, 2 , 1, 67, 1], dtype=np.float32)\n",
    "print(array_reais_forcado.dtype)\n",
    "print(array_reais_forcado)"
   ]
  },
  {
   "cell_type": "markdown",
   "id": "147fd70c",
   "metadata": {},
   "source": [
    "# Matiz"
   ]
  },
  {
   "cell_type": "code",
   "execution_count": 5,
   "id": "9961ffa3",
   "metadata": {},
   "outputs": [
    {
     "name": "stdout",
     "output_type": "stream",
     "text": [
      "[[1 2]\n",
      " [3 4]\n",
      " [4 5]\n",
      " [5 6]]\n"
     ]
    }
   ],
   "source": [
    "matriz_1 = np.array([[1, 2], [3, 4], [4, 5], [5, 6]])\n",
    "print(matriz_1)"
   ]
  },
  {
   "cell_type": "code",
   "execution_count": 6,
   "id": "dfe0c8d6",
   "metadata": {},
   "outputs": [
    {
     "name": "stdout",
     "output_type": "stream",
     "text": [
      "(4, 2)\n"
     ]
    }
   ],
   "source": [
    "# A dimeção dessa coluna é 4(linhas) por 2 (colunas)\n",
    "\n",
    "print(matriz_1.shape)"
   ]
  },
  {
   "cell_type": "code",
   "execution_count": 7,
   "id": "93a13461",
   "metadata": {},
   "outputs": [
    {
     "name": "stdout",
     "output_type": "stream",
     "text": [
      "5\n",
      "4\n"
     ]
    }
   ],
   "source": [
    "# Para imprimir basta informar a linha e coluna entre colchetes\n",
    "\n",
    "print(matriz_1[2][1])\n",
    "# Imprimir de outra forma\n",
    "print(matriz_1[2,0])"
   ]
  },
  {
   "cell_type": "code",
   "execution_count": 9,
   "id": "0b8cde59",
   "metadata": {},
   "outputs": [
    {
     "name": "stdout",
     "output_type": "stream",
     "text": [
      "10\n",
      "15\n",
      "[[ 1  2]\n",
      " [ 3  4]\n",
      " [15 10]\n",
      " [ 5  6]]\n"
     ]
    }
   ],
   "source": [
    "# Para substituir também utiliza colchetes\n",
    "matriz_1[2][1] = 10\n",
    "print(matriz_1[2][1])\n",
    "\n",
    "# Outra forma\n",
    "matriz_1[2][0] = 15\n",
    "print(matriz_1[2,0])\n",
    "\n",
    "# Matriz completa com os dados substituidos\n",
    "print(matriz_1)"
   ]
  },
  {
   "cell_type": "markdown",
   "id": "d5fa95ef",
   "metadata": {},
   "source": [
    "# Funções para Array"
   ]
  },
  {
   "cell_type": "code",
   "execution_count": 11,
   "id": "ae39dc8e",
   "metadata": {},
   "outputs": [
    {
     "name": "stdout",
     "output_type": "stream",
     "text": [
      "[ 2  5  6 11 21]\n"
     ]
    }
   ],
   "source": [
    "# Cumsum - retorna uma matriz com a soma acumulada dos valores\n",
    "\n",
    "array_2 = np.array([2, 3, 1, 5, 10])\n",
    "print(array_2.cumsum())"
   ]
  },
  {
   "cell_type": "code",
   "execution_count": 16,
   "id": "02b8d242",
   "metadata": {},
   "outputs": [
    {
     "name": "stdout",
     "output_type": "stream",
     "text": [
      "[0 1 2 3 4]\n",
      "[2 4 6 8]\n"
     ]
    }
   ],
   "source": [
    "# Cria uma matriz seguindo a logica do range nativo do python\n",
    "\n",
    "array_3 = np.arange(5)\n",
    "print(array_3)\n",
    "\n",
    "array_4 = np.arange(2, 10, 2)\n",
    "print(array_4)"
   ]
  },
  {
   "cell_type": "code",
   "execution_count": 20,
   "id": "ff8d029c",
   "metadata": {},
   "outputs": [
    {
     "name": "stdout",
     "output_type": "stream",
     "text": [
      "[ 1.  4.  7. 10.]\n"
     ]
    }
   ],
   "source": [
    "# Linspace\n",
    "# Cria um array com elementos espacados igualmente\n",
    "# Entre um valor inicial e facil\n",
    "# Linspace(inicio, fim, quantidade de elememtos entre eles)\n",
    "\n",
    "array_5 = np.linspace(1, 10, 4)\n",
    "print(array_5)"
   ]
  },
  {
   "cell_type": "code",
   "execution_count": 21,
   "id": "13737f55",
   "metadata": {},
   "outputs": [
    {
     "name": "stdout",
     "output_type": "stream",
     "text": [
      "[0. 0. 0. 0. 0. 0. 0. 0. 0. 0. 0. 0. 0. 0. 0.]\n"
     ]
    }
   ],
   "source": [
    "#Zeros cria um array somente com elementos zeros \n",
    "\n",
    "array_6 = np.zeros(15)\n",
    "print(array_6)"
   ]
  },
  {
   "cell_type": "markdown",
   "id": "6b6e3657",
   "metadata": {},
   "source": [
    "# Funções para Matriz"
   ]
  },
  {
   "cell_type": "code",
   "execution_count": 23,
   "id": "fdb198d5",
   "metadata": {},
   "outputs": [
    {
     "name": "stdout",
     "output_type": "stream",
     "text": [
      "[[1. 0. 0.]\n",
      " [0. 1. 0.]\n",
      " [0. 0. 1.]]\n"
     ]
    }
   ],
   "source": [
    "# eye - cria matriz quadrada, todos os elementos são zero com execeção\n",
    "# dos elementos que foram a diagonal principal, estes recebem o valor 1\n",
    "\n",
    "matriz_2 = np.eye(3)\n",
    "print(matriz_2)"
   ]
  },
  {
   "cell_type": "code",
   "execution_count": null,
   "id": "419c06b7",
   "metadata": {},
   "outputs": [],
   "source": []
  }
 ],
 "metadata": {
  "kernelspec": {
   "display_name": "Python 3 (ipykernel)",
   "language": "python",
   "name": "python3"
  },
  "language_info": {
   "codemirror_mode": {
    "name": "ipython",
    "version": 3
   },
   "file_extension": ".py",
   "mimetype": "text/x-python",
   "name": "python",
   "nbconvert_exporter": "python",
   "pygments_lexer": "ipython3",
   "version": "3.10.4"
  }
 },
 "nbformat": 4,
 "nbformat_minor": 5
}
