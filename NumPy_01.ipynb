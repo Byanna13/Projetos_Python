{
 "cells": [
  {
   "cell_type": "markdown",
   "id": "9f814397",
   "metadata": {},
   "source": [
    "# NumPy"
   ]
  },
  {
   "cell_type": "markdown",
   "id": "98bd975f",
   "metadata": {},
   "source": [
    "NumPy - Numerical Python\n",
    "Biblioteca para cálculos matemáticos\n",
    "Fornece a base matemática necessária para análise de dados,\n",
    "Aprendizado de Máquina, Estatica, entre outros.\n",
    "Facilita:\n",
    "- A criação de Array Matrizes\n",
    "- A leitura de database\n",
    "- Álgebra linear"
   ]
  },
  {
   "cell_type": "code",
   "execution_count": 1,
   "id": "40252a16",
   "metadata": {},
   "outputs": [],
   "source": [
    "import numpy as np"
   ]
  },
  {
   "cell_type": "markdown",
   "id": "6da93559",
   "metadata": {},
   "source": [
    "Também é possivel importar desta forma:\n",
    "    \n",
    "from numpy import *"
   ]
  },
  {
   "cell_type": "markdown",
   "id": "1d0896b2",
   "metadata": {},
   "source": [
    "Lista de dados Python\n",
    "- Conjunto de valores de qualquer tipo:\n",
    "E.: lista = [1,20,'Texto', True, 2.3]\n",
    "\n",
    "Array NumPy:\n",
    "- Conjunto de valores de apenas um tipo;\n",
    "- São mais eficientes do que lista no que diz respeito o uso de memória do computaor;"
   ]
  },
  {
   "cell_type": "code",
   "execution_count": 6,
   "id": "a5370b17",
   "metadata": {},
   "outputs": [],
   "source": [
    " array_1 = np.array([1,2,3,4,5])"
   ]
  },
  {
   "cell_type": "code",
   "execution_count": 7,
   "id": "7f69c4a5",
   "metadata": {},
   "outputs": [
    {
     "name": "stdout",
     "output_type": "stream",
     "text": [
      "<class 'numpy.ndarray'>\n"
     ]
    }
   ],
   "source": [
    "print(type(array_1))"
   ]
  },
  {
   "cell_type": "code",
   "execution_count": 8,
   "id": "2b05d8c9",
   "metadata": {},
   "outputs": [
    {
     "name": "stdout",
     "output_type": "stream",
     "text": [
      "[1 2 3 4 5]\n"
     ]
    }
   ],
   "source": [
    "print(array_1)"
   ]
  },
  {
   "cell_type": "code",
   "execution_count": 11,
   "id": "6bb34ae2",
   "metadata": {},
   "outputs": [
    {
     "name": "stdout",
     "output_type": "stream",
     "text": [
      "2\n"
     ]
    }
   ],
   "source": [
    "print(array_1[1])"
   ]
  },
  {
   "cell_type": "code",
   "execution_count": 14,
   "id": "82b26f71",
   "metadata": {},
   "outputs": [
    {
     "name": "stdout",
     "output_type": "stream",
     "text": [
      "5\n"
     ]
    }
   ],
   "source": [
    "# Mostranto o tamanho da linha(quantos elemntos tem na linha)\n",
    "print(array_1.size)"
   ]
  },
  {
   "cell_type": "markdown",
   "id": "8a57eb4e",
   "metadata": {},
   "source": [
    "# Propiedades/Atributos do NumPy"
   ]
  },
  {
   "cell_type": "code",
   "execution_count": 15,
   "id": "b0756e53",
   "metadata": {},
   "outputs": [
    {
     "name": "stdout",
     "output_type": "stream",
     "text": [
      "(5,)\n"
     ]
    }
   ],
   "source": [
    "# Shape retorna a dimensão/formato do array\n",
    "print(array_1.shape)"
   ]
  },
  {
   "cell_type": "code",
   "execution_count": 16,
   "id": "f3001692",
   "metadata": {},
   "outputs": [
    {
     "name": "stdout",
     "output_type": "stream",
     "text": [
      "int32\n"
     ]
    }
   ],
   "source": [
    "# Retorna o tipo dos dados amazenados\n",
    "print(array_1.dtype)"
   ]
  },
  {
   "cell_type": "code",
   "execution_count": 17,
   "id": "a393c338",
   "metadata": {},
   "outputs": [
    {
     "name": "stdout",
     "output_type": "stream",
     "text": [
      "4\n"
     ]
    }
   ],
   "source": [
    "# Mostra tamanho que cada elemento ocupa na memória \n",
    "print(array_1.itemsize)"
   ]
  },
  {
   "cell_type": "code",
   "execution_count": 18,
   "id": "668a8254",
   "metadata": {},
   "outputs": [
    {
     "name": "stdout",
     "output_type": "stream",
     "text": [
      "20\n"
     ]
    }
   ],
   "source": [
    "# Retorna o quanto ele ocupa de memória no total (4 vezes 5 = 20 (20 espaços de memória dos elemanto))\n",
    "print(array_1.nbytes)"
   ]
  },
  {
   "cell_type": "markdown",
   "id": "c78daeb2",
   "metadata": {},
   "source": [
    "# Tipos de Arrays"
   ]
  },
  {
   "cell_type": "code",
   "execution_count": 19,
   "id": "a4da4edc",
   "metadata": {},
   "outputs": [
    {
     "name": "stdout",
     "output_type": "stream",
     "text": [
      "[1 2 3 4 5]\n"
     ]
    }
   ],
   "source": [
    "# Array de inteitos \n",
    "array_inteiros = np.array([1,2,3,4,5])\n",
    "print(array_inteiros)"
   ]
  },
  {
   "cell_type": "code",
   "execution_count": 20,
   "id": "8444c3f2",
   "metadata": {},
   "outputs": [
    {
     "name": "stdout",
     "output_type": "stream",
     "text": [
      "[ 2.5  1.   5.2 10.2]\n"
     ]
    }
   ],
   "source": [
    "# Arre=ay de Números Reais\n",
    "array_reais = np.array([2.5,1.0,5.2,10.2])\n",
    "print(array_reais)"
   ]
  },
  {
   "cell_type": "code",
   "execution_count": 21,
   "id": "f9ee0bf7",
   "metadata": {},
   "outputs": [
    {
     "name": "stdout",
     "output_type": "stream",
     "text": [
      "['Python' 'JavaScript' 'Java']\n"
     ]
    }
   ],
   "source": [
    "# Array de Strings\n",
    "array_strings = np.array(['Python', 'JavaScript', 'Java'])\n",
    "print(array_strings)"
   ]
  },
  {
   "cell_type": "code",
   "execution_count": 22,
   "id": "92e9b550",
   "metadata": {},
   "outputs": [
    {
     "name": "stdout",
     "output_type": "stream",
     "text": [
      "[ True  True False]\n"
     ]
    }
   ],
   "source": [
    "# Array de valores Booleanos\n",
    "array_booleanos = np.array([True, True, False])\n",
    "print(array_booleanos)"
   ]
  },
  {
   "cell_type": "code",
   "execution_count": 28,
   "id": "359c1bf3",
   "metadata": {},
   "outputs": [
    {
     "name": "stdout",
     "output_type": "stream",
     "text": [
      "float32\n",
      "[ 5.  2.  1. 67.  1.]\n"
     ]
    }
   ],
   "source": [
    "array_reais_forcado = np.array([5, 2 , 1, 67, 1], dtype=np.float32)\n",
    "print(array_reais_forcado.dtype)\n",
    "print(array_reais_forcado)"
   ]
  }
 ],
 "metadata": {
  "kernelspec": {
   "display_name": "Python 3 (ipykernel)",
   "language": "python",
   "name": "python3"
  },
  "language_info": {
   "codemirror_mode": {
    "name": "ipython",
    "version": 3
   },
   "file_extension": ".py",
   "mimetype": "text/x-python",
   "name": "python",
   "nbconvert_exporter": "python",
   "pygments_lexer": "ipython3",
   "version": "3.10.4"
  }
 },
 "nbformat": 4,
 "nbformat_minor": 5
}
