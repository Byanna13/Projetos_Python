{
 "cells": [
  {
   "cell_type": "markdown",
   "id": "cbf9e005",
   "metadata": {},
   "source": [
    "# Trabalhando com csv"
   ]
  },
  {
   "cell_type": "code",
   "execution_count": 33,
   "id": "5fe8bdf0",
   "metadata": {},
   "outputs": [],
   "source": [
    "# Importando a biblioteca csv do Python\n",
    "import csv"
   ]
  },
  {
   "cell_type": "code",
   "execution_count": 34,
   "id": "281ff105",
   "metadata": {},
   "outputs": [
    {
     "data": {
      "text/plain": [
       "10"
      ]
     },
     "execution_count": 34,
     "metadata": {},
     "output_type": "execute_result"
    }
   ],
   "source": [
    "# Criando um arquivo CSV (FORMA 1)\n",
    "arquivo = open('Planilha.csv','w', newline='')\n",
    "# csv.whiter()\n",
    "arquivo_csv = csv.writer(arquivo)\n",
    "arquivo_csv.writerow(('Primeira', 'Segunda', 'Terceira'))\n",
    "arquivo_csv.writerow((50,35,22))\n",
    "arquivo_csv.writerow((22,12,43))"
   ]
  },
  {
   "cell_type": "code",
   "execution_count": 35,
   "id": "2f7bd73c",
   "metadata": {},
   "outputs": [],
   "source": [
    "# Criando um arquivo CSV (FORMA 2)\n",
    "with open('Planilha.csv','w', newline='') as arquivo:\n",
    "    arquivo_csv = csv.writer(arquivo)\n",
    "    arquivo_csv.writerow(('Primeira', 'Segunda', 'Terceira'))\n",
    "    arquivo_csv.writerow((50,35,22))\n",
    "    arquivo_csv.writerow((22,12,43))"
   ]
  },
  {
   "cell_type": "code",
   "execution_count": 43,
   "id": "f918adca",
   "metadata": {},
   "outputs": [
    {
     "name": "stdout",
     "output_type": "stream",
     "text": [
      "['Primeira', 'Segunda', 'Terceira']\n",
      "['50', '35', '22']\n",
      "['22', '12', '43']\n"
     ]
    }
   ],
   "source": [
    "# Leitura de arquivo CSV\n",
    "with open('Planilha.csv','r') as arquivo:\n",
    "    leitura = csv.reader(arquivo)\n",
    "#     print(list(leitura))\n",
    "# É possível utilizar o objeto leitura no for\n",
    "# Leirtura é um objeto iterével\n",
    "  \n",
    "    for linha in leitura:\n",
    "        print(linha)\n",
    "# (Certo)  Converte para lista de dados    \n",
    "    lista = list(leitura)\n",
    "# (Jeito errada) -->  print(list(leitura))"
   ]
  },
  {
   "cell_type": "code",
   "execution_count": 40,
   "id": "5df256fa",
   "metadata": {},
   "outputs": [
    {
     "name": "stdout",
     "output_type": "stream",
     "text": [
      "['Primeira', 'Segunda', 'Terceira']\n",
      "['50', '35', '22']\n",
      "['22', '12', '43']\n"
     ]
    }
   ],
   "source": [
    "# Forma tradicional para ler\n",
    "arquivo = open('Planilha.csv','r')\n",
    "leitura = csv.reader(arquivo)\n",
    "for linha in leitura:\n",
    "    print(linha)\n",
    "lista = list(leitura)\n",
    "arquivo.close()"
   ]
  },
  {
   "cell_type": "code",
   "execution_count": null,
   "id": "364d069e",
   "metadata": {},
   "outputs": [],
   "source": []
  }
 ],
 "metadata": {
  "kernelspec": {
   "display_name": "Python 3 (ipykernel)",
   "language": "python",
   "name": "python3"
  },
  "language_info": {
   "codemirror_mode": {
    "name": "ipython",
    "version": 3
   },
   "file_extension": ".py",
   "mimetype": "text/x-python",
   "name": "python",
   "nbconvert_exporter": "python",
   "pygments_lexer": "ipython3",
   "version": "3.10.4"
  }
 },
 "nbformat": 4,
 "nbformat_minor": 5
}
