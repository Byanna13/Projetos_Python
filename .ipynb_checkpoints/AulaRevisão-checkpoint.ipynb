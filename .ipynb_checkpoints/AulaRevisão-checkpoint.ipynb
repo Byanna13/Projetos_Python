{
 "cells": [
  {
   "cell_type": "markdown",
   "id": "5d774722",
   "metadata": {},
   "source": [
    "# Pandas"
   ]
  },
  {
   "cell_type": "markdown",
   "id": "b4bbaeb2",
   "metadata": {},
   "source": [
    "A biblioteca pandas prepara/organiza0 os dados\n",
    "Este processo é chamado também de Data Muning\n",
    "Tem uma boa integração com o Numpy\n",
    "\n",
    "Dois conceitos principais:\n",
    "- Series\n",
    "- DataFrame\n",
    "\n",
    "Site oficial: https://pandas.pydata.org/\n",
    "\n",
    "Comando de intalação: pip install pandas"
   ]
  },
  {
   "cell_type": "code",
   "execution_count": 3,
   "id": "059b80a6",
   "metadata": {},
   "outputs": [],
   "source": [
    "# Importando a biblioteca pandas\n",
    "import pandas as pd"
   ]
  },
  {
   "cell_type": "markdown",
   "id": "50494e3a",
   "metadata": {},
   "source": [
    "# Series"
   ]
  },
  {
   "cell_type": "markdown",
   "id": "52126005",
   "metadata": {},
   "source": [
    "Series são Arraus unidimencionais que contém uma lista de dados e outra lista de índices"
   ]
  },
  {
   "cell_type": "code",
   "execution_count": 4,
   "id": "12ece7eb",
   "metadata": {},
   "outputs": [
    {
     "name": "stdout",
     "output_type": "stream",
     "text": [
      "0    14\n",
      "1    10\n",
      "2     4\n",
      "3     1\n",
      "dtype: int64\n"
     ]
    }
   ],
   "source": [
    "# Criação de Series com geração automatica de indices\n",
    "\n",
    "series_1 = pd.Series([14, 10, 4, 1])\n",
    "print(series_1)"
   ]
  },
  {
   "cell_type": "code",
   "execution_count": 5,
   "id": "81220cbf",
   "metadata": {},
   "outputs": [
    {
     "name": "stdout",
     "output_type": "stream",
     "text": [
      "a    14\n",
      "b    10\n",
      "c     4\n",
      "d     1\n",
      "dtype: int64\n"
     ]
    }
   ],
   "source": [
    "#  Criação de Series definindo os indices\n",
    "\n",
    "series_2 = pd.Series([14, 10, 4, 1], index=['a', 'b', 'c', 'd'])\n",
    "print(series_2)"
   ]
  },
  {
   "cell_type": "code",
   "execution_count": 6,
   "id": "6ce3afb1",
   "metadata": {},
   "outputs": [
    {
     "name": "stdout",
     "output_type": "stream",
     "text": [
      "[14 10  4  1]\n"
     ]
    }
   ],
   "source": [
    "# Retorna apenas os valores da Series\n",
    "\n",
    "print(series_2.values)"
   ]
  },
  {
   "cell_type": "code",
   "execution_count": 7,
   "id": "77e15257",
   "metadata": {},
   "outputs": [
    {
     "name": "stdout",
     "output_type": "stream",
     "text": [
      "Index(['a', 'b', 'c', 'd'], dtype='object')\n"
     ]
    }
   ],
   "source": [
    "# Retorna apenas os indices da Series\n",
    "\n",
    "print(series_2.index)"
   ]
  },
  {
   "cell_type": "code",
   "execution_count": 9,
   "id": "8fa4f28e",
   "metadata": {},
   "outputs": [
    {
     "name": "stdout",
     "output_type": "stream",
     "text": [
      "10\n"
     ]
    }
   ],
   "source": [
    "# Retorna o valor correspondente ao indice 'b'\n",
    "\n",
    "print(series_2['b'])"
   ]
  },
  {
   "cell_type": "code",
   "execution_count": 13,
   "id": "9bb88d50",
   "metadata": {},
   "outputs": [
    {
     "name": "stdout",
     "output_type": "stream",
     "text": [
      "a    14\n",
      "b    10\n",
      "dtype: int64\n"
     ]
    }
   ],
   "source": [
    "# Retorna uma Series contendos os valoes superiosres a 5\n",
    "\n",
    "print(series_2[series_2>5])"
   ]
  },
  {
   "cell_type": "code",
   "execution_count": 16,
   "id": "ede7455d",
   "metadata": {},
   "outputs": [
    {
     "name": "stdout",
     "output_type": "stream",
     "text": [
      "a    14\n",
      "b    10\n",
      "c     4\n",
      "d     1\n",
      "dtype: int64\n"
     ]
    }
   ],
   "source": [
    "# Criando uma Series através de dicionário\n",
    "\n",
    "dicionario_1 = {'a': 14, 'b':10, 'c':4, 'd':1}\n",
    "series_3 = pd.Series(dicionario_1)\n",
    "print(series_3)"
   ]
  },
  {
   "cell_type": "code",
   "execution_count": 18,
   "id": "3a8cda88",
   "metadata": {},
   "outputs": [
    {
     "name": "stdout",
     "output_type": "stream",
     "text": [
      "a    14.0\n",
      "b    10.0\n",
      "c     4.0\n",
      "d     1.0\n",
      "e     NaN\n",
      "dtype: float64\n"
     ]
    }
   ],
   "source": [
    "# Alterando o series_3 para um novo Series com um indice a mais \n",
    "# neste caso, não possui valor correspondente a este indice (NaN - Not a Number)\n",
    "\n",
    "series_4 = pd.Series(series_3, index=['a', 'b', 'c', 'd', 'e'])\n",
    "print(series_4)"
   ]
  },
  {
   "cell_type": "code",
   "execution_count": 19,
   "id": "ff1d0f64",
   "metadata": {},
   "outputs": [
    {
     "name": "stdout",
     "output_type": "stream",
     "text": [
      "a    False\n",
      "b    False\n",
      "c    False\n",
      "d    False\n",
      "e     True\n",
      "dtype: bool\n"
     ]
    }
   ],
   "source": [
    "# Verifca quais posições se encontra nulos (NaN) - retornando True neste caso\n",
    "\n",
    "print(pd.isnull(series_4))"
   ]
  },
  {
   "cell_type": "code",
   "execution_count": 20,
   "id": "6757984b",
   "metadata": {},
   "outputs": [
    {
     "name": "stdout",
     "output_type": "stream",
     "text": [
      "a     True\n",
      "b     True\n",
      "c     True\n",
      "d     True\n",
      "e    False\n",
      "dtype: bool\n"
     ]
    }
   ],
   "source": [
    "# Verifca quais posições se encontra não nulos - retornando True neste caso\n",
    "\n",
    "print(pd.notnull(series_4))"
   ]
  },
  {
   "cell_type": "code",
   "execution_count": null,
   "id": "8b05ba75",
   "metadata": {},
   "outputs": [],
   "source": []
  }
 ],
 "metadata": {
  "kernelspec": {
   "display_name": "Python 3 (ipykernel)",
   "language": "python",
   "name": "python3"
  },
  "language_info": {
   "codemirror_mode": {
    "name": "ipython",
    "version": 3
   },
   "file_extension": ".py",
   "mimetype": "text/x-python",
   "name": "python",
   "nbconvert_exporter": "python",
   "pygments_lexer": "ipython3",
   "version": "3.10.4"
  }
 },
 "nbformat": 4,
 "nbformat_minor": 5
}
