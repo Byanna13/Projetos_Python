{
 "cells": [
  {
   "cell_type": "markdown",
   "id": "5d774722",
   "metadata": {},
   "source": [
    "# Pandas"
   ]
  },
  {
   "cell_type": "markdown",
   "id": "b4bbaeb2",
   "metadata": {},
   "source": [
    "A biblioteca pandas prepara/organiza0 os dados\n",
    "Este processo é chamado também de Data Muning\n",
    "Tem uma boa integração com o Numpy\n",
    "\n",
    "Dois conceitos principais:\n",
    "- Series\n",
    "- DataFrame\n",
    "\n",
    "Site oficial: https://pandas.pydata.org/\n",
    "\n",
    "Comando de intalação: pip install pandas"
   ]
  },
  {
   "cell_type": "code",
   "execution_count": 1,
   "id": "c1d8455f",
   "metadata": {},
   "outputs": [],
   "source": [
    "# Importando a biblioteca pandas\n",
    "import pandas as pd"
   ]
  },
  {
   "cell_type": "markdown",
   "id": "2465d41d",
   "metadata": {},
   "source": [
    "# Series"
   ]
  },
  {
   "cell_type": "markdown",
   "id": "046e9152",
   "metadata": {},
   "source": [
    "Series são Arraus unidimencionais que contém uma lista de dados e outra lista de índices"
   ]
  },
  {
   "cell_type": "code",
   "execution_count": 2,
   "id": "05dbf296",
   "metadata": {},
   "outputs": [
    {
     "name": "stdout",
     "output_type": "stream",
     "text": [
      "0    14\n",
      "1    10\n",
      "2     4\n",
      "3     1\n",
      "dtype: int64\n"
     ]
    }
   ],
   "source": [
    "# Criação de Series com geração automatica de indices\n",
    "\n",
    "series_1 = pd.Series([14, 10, 4, 1])\n",
    "print(series_1)"
   ]
  },
  {
   "cell_type": "code",
   "execution_count": 3,
   "id": "4113808e",
   "metadata": {},
   "outputs": [
    {
     "name": "stdout",
     "output_type": "stream",
     "text": [
      "a    14\n",
      "b    10\n",
      "c     4\n",
      "d     1\n",
      "dtype: int64\n"
     ]
    }
   ],
   "source": [
    "#  Criação de Series definindo os indices\n",
    "\n",
    "series_2 = pd.Series([14, 10, 4, 1], index=['a', 'b', 'c', 'd'])\n",
    "print(series_2)"
   ]
  },
  {
   "cell_type": "code",
   "execution_count": 4,
   "id": "02d8e360",
   "metadata": {},
   "outputs": [
    {
     "name": "stdout",
     "output_type": "stream",
     "text": [
      "[14 10  4  1]\n"
     ]
    }
   ],
   "source": [
    "# Retorna apenas os valores da Series\n",
    "\n",
    "print(series_2.values)"
   ]
  },
  {
   "cell_type": "code",
   "execution_count": 5,
   "id": "a0b009f9",
   "metadata": {},
   "outputs": [
    {
     "name": "stdout",
     "output_type": "stream",
     "text": [
      "Index(['a', 'b', 'c', 'd'], dtype='object')\n"
     ]
    }
   ],
   "source": [
    "# Retorna apenas os indices da Series\n",
    "\n",
    "print(series_2.index)"
   ]
  },
  {
   "cell_type": "code",
   "execution_count": 6,
   "id": "38e14579",
   "metadata": {},
   "outputs": [
    {
     "name": "stdout",
     "output_type": "stream",
     "text": [
      "10\n"
     ]
    }
   ],
   "source": [
    "# Retorna o valor correspondente ao indice 'b'\n",
    "\n",
    "print(series_2['b'])"
   ]
  },
  {
   "cell_type": "code",
   "execution_count": 7,
   "id": "4856fb7d",
   "metadata": {},
   "outputs": [
    {
     "name": "stdout",
     "output_type": "stream",
     "text": [
      "a    14\n",
      "b    10\n",
      "dtype: int64\n"
     ]
    }
   ],
   "source": [
    "# Retorna uma Series contendos os valoes superiosres a 5\n",
    "\n",
    "print(series_2[series_2>5])"
   ]
  },
  {
   "cell_type": "code",
   "execution_count": 8,
   "id": "c15d23f1",
   "metadata": {},
   "outputs": [
    {
     "name": "stdout",
     "output_type": "stream",
     "text": [
      "a    14\n",
      "b    10\n",
      "c     4\n",
      "d     1\n",
      "dtype: int64\n"
     ]
    }
   ],
   "source": [
    "# Criando uma Series através de dicionário\n",
    "\n",
    "dicionario_1 = {'a': 14, 'b':10, 'c':4, 'd':1}\n",
    "series_3 = pd.Series(dicionario_1)\n",
    "print(series_3)"
   ]
  },
  {
   "cell_type": "code",
   "execution_count": 9,
   "id": "9b1d7ae1",
   "metadata": {},
   "outputs": [
    {
     "name": "stdout",
     "output_type": "stream",
     "text": [
      "a    14.0\n",
      "b    10.0\n",
      "c     4.0\n",
      "d     1.0\n",
      "e     NaN\n",
      "dtype: float64\n"
     ]
    }
   ],
   "source": [
    "# Alterando o series_3 para um novo Series com um indice a mais \n",
    "# neste caso, não possui valor correspondente a este indice (NaN - Not a Number)\n",
    "\n",
    "series_4 = pd.Series(series_3, index=['a', 'b', 'c', 'd', 'e'])\n",
    "print(series_4)"
   ]
  },
  {
   "cell_type": "code",
   "execution_count": 10,
   "id": "fdeb87f7",
   "metadata": {},
   "outputs": [
    {
     "name": "stdout",
     "output_type": "stream",
     "text": [
      "a    False\n",
      "b    False\n",
      "c    False\n",
      "d    False\n",
      "e     True\n",
      "dtype: bool\n"
     ]
    }
   ],
   "source": [
    "# Verifca quais posições se encontra nulos (NaN) - retornando True neste caso\n",
    "\n",
    "print(pd.isnull(series_4))"
   ]
  },
  {
   "cell_type": "code",
   "execution_count": 11,
   "id": "24e5931f",
   "metadata": {},
   "outputs": [
    {
     "name": "stdout",
     "output_type": "stream",
     "text": [
      "a     True\n",
      "b     True\n",
      "c     True\n",
      "d     True\n",
      "e    False\n",
      "dtype: bool\n"
     ]
    }
   ],
   "source": [
    "# Verifca quais posições se encontra não nulos - retornando True neste caso\n",
    "\n",
    "print(pd.notnull(series_4))"
   ]
  },
  {
   "cell_type": "code",
   "execution_count": 12,
   "id": "76381c7a",
   "metadata": {},
   "outputs": [
    {
     "name": "stdout",
     "output_type": "stream",
     "text": [
      "a    14.0\n",
      "b    10.0\n",
      "c     4.0\n",
      "d     1.0\n",
      "e     NaN\n",
      "Name: Aula, dtype: float64\n"
     ]
    }
   ],
   "source": [
    "# Nomeando uma Series\n",
    "\n",
    "series_4.name = 'Aula'\n",
    "print(series_4)"
   ]
  },
  {
   "cell_type": "markdown",
   "id": "5799d12e",
   "metadata": {},
   "source": [
    "# DataFrame"
   ]
  },
  {
   "cell_type": "markdown",
   "id": "b5f0f749",
   "metadata": {},
   "source": [
    "- Estrutura semelhante a uma planilha do Excel\n",
    "- Possui colunas e linhas"
   ]
  },
  {
   "cell_type": "code",
   "execution_count": 13,
   "id": "57e356ea",
   "metadata": {},
   "outputs": [],
   "source": [
    "dicionario_2 = {\n",
    "    'Dias': ['Segunda', 'Terça', 'Quarta'],\n",
    "    '7h': ['POO', 'BD', 'algoritimo'],\n",
    "    '8h': ['Análise', 'Back End', 'Front End']\n",
    "}"
   ]
  },
  {
   "cell_type": "code",
   "execution_count": 14,
   "id": "17b77c07",
   "metadata": {},
   "outputs": [
    {
     "name": "stdout",
     "output_type": "stream",
     "text": [
      "      Dias          7h         8h\n",
      "0  Segunda         POO    Análise\n",
      "1    Terça          BD   Back End\n",
      "2   Quarta  algoritimo  Front End\n"
     ]
    }
   ],
   "source": [
    "dataframe_1 = pd.DataFrame(dicionario_2)\n",
    "print(dataframe_1)"
   ]
  },
  {
   "cell_type": "code",
   "execution_count": 17,
   "id": "bf412409",
   "metadata": {},
   "outputs": [
    {
     "name": "stdout",
     "output_type": "stream",
     "text": [
      "      Dias        7h          8h\n",
      "a  Segunda     Terça      Quarta\n",
      "b      POO        BD  algoritimo\n",
      "c  Análise  Back End   Front End\n"
     ]
    }
   ],
   "source": [
    "# Jeito errado de escrevar uma tabela\n",
    "valores = [\n",
    "    ['Segunda', 'Terça', 'Quarta'],\n",
    "    ['POO', 'BD', 'algoritimo'],\n",
    "    ['Análise', 'Back End', 'Front End']\n",
    "]\n",
    "colunas = ['Dias', '7h', '8h']\n",
    "indices = ['a', 'b', 'c']\n",
    "dataframe_2 = pd.DataFrame(valores, columns=colunas, index=indices)\n",
    "print(dataframe_2)"
   ]
  },
  {
   "cell_type": "code",
   "execution_count": 21,
   "id": "f645f96b",
   "metadata": {},
   "outputs": [],
   "source": [
    "# Importando a biblioteca pandas\n",
    "import pandas as pd"
   ]
  },
  {
   "cell_type": "code",
   "execution_count": 25,
   "id": "f5c25199",
   "metadata": {},
   "outputs": [
    {
     "name": "stdout",
     "output_type": "stream",
     "text": [
      "                Disciplinas  CH      Dia\n",
      "ALG             Algoritimos  80  Segunda\n",
      "POO  P.Orientadas a Objetos  80    Terça\n",
      "BD           Banco de dados  40   Quarta\n"
     ]
    },
    {
     "data": {
      "text/html": [
       "<div>\n",
       "<style scoped>\n",
       "    .dataframe tbody tr th:only-of-type {\n",
       "        vertical-align: middle;\n",
       "    }\n",
       "\n",
       "    .dataframe tbody tr th {\n",
       "        vertical-align: top;\n",
       "    }\n",
       "\n",
       "    .dataframe thead th {\n",
       "        text-align: right;\n",
       "    }\n",
       "</style>\n",
       "<table border=\"1\" class=\"dataframe\">\n",
       "  <thead>\n",
       "    <tr style=\"text-align: right;\">\n",
       "      <th></th>\n",
       "      <th>Disciplinas</th>\n",
       "      <th>CH</th>\n",
       "      <th>Dia</th>\n",
       "    </tr>\n",
       "  </thead>\n",
       "  <tbody>\n",
       "    <tr>\n",
       "      <th>ALG</th>\n",
       "      <td>Algoritimos</td>\n",
       "      <td>80</td>\n",
       "      <td>Segunda</td>\n",
       "    </tr>\n",
       "    <tr>\n",
       "      <th>POO</th>\n",
       "      <td>P.Orientadas a Objetos</td>\n",
       "      <td>80</td>\n",
       "      <td>Terça</td>\n",
       "    </tr>\n",
       "    <tr>\n",
       "      <th>BD</th>\n",
       "      <td>Banco de dados</td>\n",
       "      <td>40</td>\n",
       "      <td>Quarta</td>\n",
       "    </tr>\n",
       "  </tbody>\n",
       "</table>\n",
       "</div>"
      ],
      "text/plain": [
       "                Disciplinas  CH      Dia\n",
       "ALG             Algoritimos  80  Segunda\n",
       "POO  P.Orientadas a Objetos  80    Terça\n",
       "BD           Banco de dados  40   Quarta"
      ]
     },
     "execution_count": 25,
     "metadata": {},
     "output_type": "execute_result"
    }
   ],
   "source": [
    "# Jeito certo de escrevar uma tabela\n",
    "colunas = ['Disciplinas', 'CH', 'Dia']\n",
    "valores = [\n",
    "    ['Algoritimos', 80, 'Segunda'],\n",
    "    ['P.Orientadas a Objetos', 80, 'Terça'],\n",
    "    ['Banco de dados', 40, 'Quarta']\n",
    "]\n",
    "indices = ['ALG','POO','BD']\n",
    "dataframe_3 = pd.DataFrame(valores, columns=colunas, index=indices)\n",
    "print(dataframe_3)\n",
    "\n",
    "# Esse so funciona no jupyter, não funciona no VScode\n",
    "dataframe_3"
   ]
  },
  {
   "cell_type": "code",
   "execution_count": 28,
   "id": "fbfd724e",
   "metadata": {},
   "outputs": [
    {
     "name": "stdout",
     "output_type": "stream",
     "text": [
      "ALG               Algoritimos\n",
      "POO    P.Orientadas a Objetos\n",
      "BD             Banco de dados\n",
      "Name: Disciplinas, dtype: object\n"
     ]
    },
    {
     "data": {
      "text/plain": [
       "ALG               Algoritimos\n",
       "POO    P.Orientadas a Objetos\n",
       "BD             Banco de dados\n",
       "Name: Disciplinas, dtype: object"
      ]
     },
     "execution_count": 28,
     "metadata": {},
     "output_type": "execute_result"
    }
   ],
   "source": [
    "# Inserindo o nome da coluna, é retornado um DataFrame(tabelaPanda) com os valores apenas desta coluna\n",
    "print(dataframe_3['Disciplinas'])\n",
    "dataframe_3['Disciplinas']"
   ]
  },
  {
   "cell_type": "code",
   "execution_count": 30,
   "id": "cc283c5d",
   "metadata": {},
   "outputs": [
    {
     "name": "stdout",
     "output_type": "stream",
     "text": [
      "ALG    Segunda\n",
      "POO      Terça\n",
      "BD      Quarta\n",
      "Name: Dia, dtype: object\n"
     ]
    }
   ],
   "source": [
    "print(dataframe_3['Dia'])"
   ]
  },
  {
   "cell_type": "code",
   "execution_count": 32,
   "id": "d9c40217",
   "metadata": {},
   "outputs": [
    {
     "data": {
      "text/html": [
       "<div>\n",
       "<style scoped>\n",
       "    .dataframe tbody tr th:only-of-type {\n",
       "        vertical-align: middle;\n",
       "    }\n",
       "\n",
       "    .dataframe tbody tr th {\n",
       "        vertical-align: top;\n",
       "    }\n",
       "\n",
       "    .dataframe thead th {\n",
       "        text-align: right;\n",
       "    }\n",
       "</style>\n",
       "<table border=\"1\" class=\"dataframe\">\n",
       "  <thead>\n",
       "    <tr style=\"text-align: right;\">\n",
       "      <th></th>\n",
       "      <th>Disciplinas</th>\n",
       "      <th>CH</th>\n",
       "      <th>Dia</th>\n",
       "    </tr>\n",
       "  </thead>\n",
       "  <tbody>\n",
       "    <tr>\n",
       "      <th>ALG</th>\n",
       "      <td>Algoritimos</td>\n",
       "      <td>120</td>\n",
       "      <td>Segunda</td>\n",
       "    </tr>\n",
       "    <tr>\n",
       "      <th>POO</th>\n",
       "      <td>P.Orientadas a Objetos</td>\n",
       "      <td>120</td>\n",
       "      <td>Terça</td>\n",
       "    </tr>\n",
       "    <tr>\n",
       "      <th>BD</th>\n",
       "      <td>Banco de dados</td>\n",
       "      <td>80</td>\n",
       "      <td>Quarta</td>\n",
       "    </tr>\n",
       "  </tbody>\n",
       "</table>\n",
       "</div>"
      ],
      "text/plain": [
       "                Disciplinas   CH      Dia\n",
       "ALG             Algoritimos  120  Segunda\n",
       "POO  P.Orientadas a Objetos  120    Terça\n",
       "BD           Banco de dados   80   Quarta"
      ]
     },
     "execution_count": 32,
     "metadata": {},
     "output_type": "execute_result"
    }
   ],
   "source": [
    "# Subistituindo todos os valores de uma coluna (nest exeplo: CH)\n",
    "novas_ch = [120, 120, 80]\n",
    "dataframe_3['CH'] = novas_ch\n",
    "\n",
    "dataframe_3"
   ]
  },
  {
   "cell_type": "code",
   "execution_count": 33,
   "id": "4a0d2f2d",
   "metadata": {},
   "outputs": [
    {
     "name": "stdout",
     "output_type": "stream",
     "text": [
      "                Disciplinas   CH      Dia\n",
      "ALG             Algoritimos  120  Segunda\n",
      "POO  P.Orientadas a Objetos  120    Terça\n"
     ]
    }
   ],
   "source": [
    "# O slicing por padrão funciona por linha. No exemplo a seguir, imprime as duas primeiras linhas das colunas.\n",
    "\n",
    "\n",
    "print(dataframe_3[0:2])"
   ]
  },
  {
   "cell_type": "code",
   "execution_count": 34,
   "id": "b2df2bc1",
   "metadata": {},
   "outputs": [
    {
     "name": "stdout",
     "output_type": "stream",
     "text": [
      "        Disciplinas   CH      Dia\n",
      "ALG     Algoritimos  120  Segunda\n",
      "BD   Banco de dados   80   Quarta\n"
     ]
    }
   ],
   "source": [
    "# Imprime a primeira e a terceira linha\n",
    "print(dataframe_3[0:3:2])"
   ]
  },
  {
   "cell_type": "code",
   "execution_count": 46,
   "id": "424232c7",
   "metadata": {},
   "outputs": [
    {
     "name": "stdout",
     "output_type": "stream",
     "text": [
      "                Disciplinas   CH\n",
      "ALG             Algoritimos  120\n",
      "POO  P.Orientadas a Objetos  120\n",
      "BD           Banco de dados   80\n"
     ]
    },
    {
     "data": {
      "text/html": [
       "<div>\n",
       "<style scoped>\n",
       "    .dataframe tbody tr th:only-of-type {\n",
       "        vertical-align: middle;\n",
       "    }\n",
       "\n",
       "    .dataframe tbody tr th {\n",
       "        vertical-align: top;\n",
       "    }\n",
       "\n",
       "    .dataframe thead th {\n",
       "        text-align: right;\n",
       "    }\n",
       "</style>\n",
       "<table border=\"1\" class=\"dataframe\">\n",
       "  <thead>\n",
       "    <tr style=\"text-align: right;\">\n",
       "      <th></th>\n",
       "      <th>Disciplinas</th>\n",
       "      <th>CH</th>\n",
       "    </tr>\n",
       "  </thead>\n",
       "  <tbody>\n",
       "    <tr>\n",
       "      <th>ALG</th>\n",
       "      <td>Algoritimos</td>\n",
       "      <td>120</td>\n",
       "    </tr>\n",
       "    <tr>\n",
       "      <th>POO</th>\n",
       "      <td>P.Orientadas a Objetos</td>\n",
       "      <td>120</td>\n",
       "    </tr>\n",
       "    <tr>\n",
       "      <th>BD</th>\n",
       "      <td>Banco de dados</td>\n",
       "      <td>80</td>\n",
       "    </tr>\n",
       "  </tbody>\n",
       "</table>\n",
       "</div>"
      ],
      "text/plain": [
       "                Disciplinas   CH\n",
       "ALG             Algoritimos  120\n",
       "POO  P.Orientadas a Objetos  120\n",
       "BD           Banco de dados   80"
      ]
     },
     "execution_count": 46,
     "metadata": {},
     "output_type": "execute_result"
    }
   ],
   "source": [
    "# slicing por coluna, imprimindo de Disciplina até CH\n",
    "# Precisa usar a propriedade \"loc\"\n",
    "\n",
    "print(dataframe_3.loc[:,'Disciplinas':'CH'])\n",
    "\n",
    "dataframe_3.loc[:,'Disciplinas':'CH']"
   ]
  },
  {
   "cell_type": "code",
   "execution_count": 47,
   "id": "0da3e989",
   "metadata": {},
   "outputs": [
    {
     "data": {
      "text/html": [
       "<div>\n",
       "<style scoped>\n",
       "    .dataframe tbody tr th:only-of-type {\n",
       "        vertical-align: middle;\n",
       "    }\n",
       "\n",
       "    .dataframe tbody tr th {\n",
       "        vertical-align: top;\n",
       "    }\n",
       "\n",
       "    .dataframe thead th {\n",
       "        text-align: right;\n",
       "    }\n",
       "</style>\n",
       "<table border=\"1\" class=\"dataframe\">\n",
       "  <thead>\n",
       "    <tr style=\"text-align: right;\">\n",
       "      <th></th>\n",
       "      <th>Disciplinas</th>\n",
       "      <th>CH</th>\n",
       "    </tr>\n",
       "  </thead>\n",
       "  <tbody>\n",
       "    <tr>\n",
       "      <th>ALG</th>\n",
       "      <td>Algoritimos</td>\n",
       "      <td>120</td>\n",
       "    </tr>\n",
       "    <tr>\n",
       "      <th>POO</th>\n",
       "      <td>P.Orientadas a Objetos</td>\n",
       "      <td>120</td>\n",
       "    </tr>\n",
       "    <tr>\n",
       "      <th>BD</th>\n",
       "      <td>Banco de dados</td>\n",
       "      <td>80</td>\n",
       "    </tr>\n",
       "  </tbody>\n",
       "</table>\n",
       "</div>"
      ],
      "text/plain": [
       "                Disciplinas   CH\n",
       "ALG             Algoritimos  120\n",
       "POO  P.Orientadas a Objetos  120\n",
       "BD           Banco de dados   80"
      ]
     },
     "execution_count": 47,
     "metadata": {},
     "output_type": "execute_result"
    }
   ],
   "source": [
    "# Imprime Disciplina e CH\n",
    "dataframe_3.loc[:,:'CH']"
   ]
  },
  {
   "cell_type": "code",
   "execution_count": 48,
   "id": "828f8923",
   "metadata": {},
   "outputs": [
    {
     "name": "stdout",
     "output_type": "stream",
     "text": [
      "      CH      Dia\n",
      "ALG  120  Segunda\n",
      "POO  120    Terça\n",
      "BD    80   Quarta\n"
     ]
    },
    {
     "data": {
      "text/html": [
       "<div>\n",
       "<style scoped>\n",
       "    .dataframe tbody tr th:only-of-type {\n",
       "        vertical-align: middle;\n",
       "    }\n",
       "\n",
       "    .dataframe tbody tr th {\n",
       "        vertical-align: top;\n",
       "    }\n",
       "\n",
       "    .dataframe thead th {\n",
       "        text-align: right;\n",
       "    }\n",
       "</style>\n",
       "<table border=\"1\" class=\"dataframe\">\n",
       "  <thead>\n",
       "    <tr style=\"text-align: right;\">\n",
       "      <th></th>\n",
       "      <th>CH</th>\n",
       "      <th>Dia</th>\n",
       "    </tr>\n",
       "  </thead>\n",
       "  <tbody>\n",
       "    <tr>\n",
       "      <th>ALG</th>\n",
       "      <td>120</td>\n",
       "      <td>Segunda</td>\n",
       "    </tr>\n",
       "    <tr>\n",
       "      <th>POO</th>\n",
       "      <td>120</td>\n",
       "      <td>Terça</td>\n",
       "    </tr>\n",
       "    <tr>\n",
       "      <th>BD</th>\n",
       "      <td>80</td>\n",
       "      <td>Quarta</td>\n",
       "    </tr>\n",
       "  </tbody>\n",
       "</table>\n",
       "</div>"
      ],
      "text/plain": [
       "      CH      Dia\n",
       "ALG  120  Segunda\n",
       "POO  120    Terça\n",
       "BD    80   Quarta"
      ]
     },
     "execution_count": 48,
     "metadata": {},
     "output_type": "execute_result"
    }
   ],
   "source": [
    "# Retorna um DataFrame da coluna CH até dia \n",
    "\n",
    "print(dataframe_3.loc[:,'CH':'Dia'])\n",
    "\n",
    "dataframe_3.loc[:,'CH':'Dia']"
   ]
  },
  {
   "cell_type": "code",
   "execution_count": 49,
   "id": "799eb773",
   "metadata": {},
   "outputs": [
    {
     "data": {
      "text/html": [
       "<div>\n",
       "<style scoped>\n",
       "    .dataframe tbody tr th:only-of-type {\n",
       "        vertical-align: middle;\n",
       "    }\n",
       "\n",
       "    .dataframe tbody tr th {\n",
       "        vertical-align: top;\n",
       "    }\n",
       "\n",
       "    .dataframe thead th {\n",
       "        text-align: right;\n",
       "    }\n",
       "</style>\n",
       "<table border=\"1\" class=\"dataframe\">\n",
       "  <thead>\n",
       "    <tr style=\"text-align: right;\">\n",
       "      <th></th>\n",
       "      <th>CH</th>\n",
       "      <th>Dia</th>\n",
       "    </tr>\n",
       "  </thead>\n",
       "  <tbody>\n",
       "    <tr>\n",
       "      <th>ALG</th>\n",
       "      <td>120</td>\n",
       "      <td>Segunda</td>\n",
       "    </tr>\n",
       "    <tr>\n",
       "      <th>POO</th>\n",
       "      <td>120</td>\n",
       "      <td>Terça</td>\n",
       "    </tr>\n",
       "    <tr>\n",
       "      <th>BD</th>\n",
       "      <td>80</td>\n",
       "      <td>Quarta</td>\n",
       "    </tr>\n",
       "  </tbody>\n",
       "</table>\n",
       "</div>"
      ],
      "text/plain": [
       "      CH      Dia\n",
       "ALG  120  Segunda\n",
       "POO  120    Terça\n",
       "BD    80   Quarta"
      ]
     },
     "execution_count": 49,
     "metadata": {},
     "output_type": "execute_result"
    }
   ],
   "source": [
    "# A propriedade \"iloc\" permite fazer slicing de colunas atraves de indices\n",
    "dataframe_3.iloc[:,1:3]"
   ]
  },
  {
   "cell_type": "code",
   "execution_count": 51,
   "id": "71cbf4bc",
   "metadata": {},
   "outputs": [
    {
     "data": {
      "text/plain": [
       "count      3.000000\n",
       "mean     106.666667\n",
       "std       23.094011\n",
       "min       80.000000\n",
       "25%      100.000000\n",
       "50%      120.000000\n",
       "75%      120.000000\n",
       "max      120.000000\n",
       "Name: CH, dtype: float64"
      ]
     },
     "execution_count": 51,
     "metadata": {},
     "output_type": "execute_result"
    }
   ],
   "source": [
    "dataframe_3['CH'].describe()"
   ]
  },
  {
   "cell_type": "code",
   "execution_count": null,
   "id": "2a2784b8",
   "metadata": {},
   "outputs": [],
   "source": []
  }
 ],
 "metadata": {
  "kernelspec": {
   "display_name": "Python 3 (ipykernel)",
   "language": "python",
   "name": "python3"
  },
  "language_info": {
   "codemirror_mode": {
    "name": "ipython",
    "version": 3
   },
   "file_extension": ".py",
   "mimetype": "text/x-python",
   "name": "python",
   "nbconvert_exporter": "python",
   "pygments_lexer": "ipython3",
   "version": "3.10.4"
  }
 },
 "nbformat": 4,
 "nbformat_minor": 5
}
