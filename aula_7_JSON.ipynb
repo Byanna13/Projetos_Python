{
 "cells": [
  {
   "cell_type": "markdown",
   "id": "d7a811ab",
   "metadata": {},
   "source": [
    "# JSON - JavaScript Object Notation"
   ]
  },
  {
   "cell_type": "code",
   "execution_count": null,
   "id": "b2dcc07c",
   "metadata": {},
   "outputs": [],
   "source": [
    "import json"
   ]
  },
  {
   "cell_type": "code",
   "execution_count": null,
   "id": "02a37606",
   "metadata": {},
   "outputs": [],
   "source": [
    "dados = {\n",
    "    'Nome': 'Fabiana',\n",
    "    'Matricula': 12345,\n",
    "    'Email': 'fabianasouza@gmail.com'\n",
    "}"
   ]
  },
  {
   "cell_type": "code",
   "execution_count": null,
   "id": "88210e34",
   "metadata": {},
   "outputs": [],
   "source": [
    "arquivo = open('exemplo.json', 'w')\n",
    "arquivo.write(json.do)"
   ]
  }
 ],
 "metadata": {
  "kernelspec": {
   "display_name": "Python 3 (ipykernel)",
   "language": "python",
   "name": "python3"
  },
  "language_info": {
   "codemirror_mode": {
    "name": "ipython",
    "version": 3
   },
   "file_extension": ".py",
   "mimetype": "text/x-python",
   "name": "python",
   "nbconvert_exporter": "python",
   "pygments_lexer": "ipython3",
   "version": "3.10.4"
  }
 },
 "nbformat": 4,
 "nbformat_minor": 5
}
