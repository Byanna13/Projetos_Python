{
 "cells": [
  {
   "cell_type": "raw",
   "id": "f147aa00",
   "metadata": {},
   "source": [
    "Pricipal conceito da POO: - Objeto\n",
    "\n",
    "Para criar (instanciar) um objeto, eu preciso de uma classe\n",
    "\n",
    "A classe é onde serão definidos as características e ações que um objeto poderá assumir"
   ]
  },
  {
   "cell_type": "code",
   "execution_count": 1,
   "id": "fb87fe40",
   "metadata": {},
   "outputs": [],
   "source": [
    "# Criando uma classe\n",
    "class Nome:\n",
    "    pass\n",
    "\n",
    "# A pala reservada PASS serve para indicar que a classe é vazia"
   ]
  },
  {
   "cell_type": "markdown",
   "id": "1e41e2e4",
   "metadata": {},
   "source": [
    "CARACTERÍSTICAS = variáveis\n",
    "AÇÔES = funçoes\n",
    "\n",
    "Para definir as variaveis, é preciso utilizar o construtor \n",
    "\n",
    "CONSTUTOR - funçao especial que é acessada no momento da criação do objeto (instanciação). Ela é acessada apenas uma vez (somente na criação)."
   ]
  },
  {
   "cell_type": "code",
   "execution_count": null,
   "id": "1a1cf123",
   "metadata": {},
   "outputs": [],
   "source": [
    "class lampada:\n",
    "    \n",
    "    def __init__(self):\n",
    "        self.codigo = 123\n",
    "        self.tipo = 'Fluorescente'\n",
    "        self.estado = 'Apagada'\n",
    "\n",
    "        \n",
    "#  __init__ é a função especial que representa o construtor da classe        \n",
    "'''        \n",
    "self é um parâmetro obrigatório quando é preciso definir que a uma \n",
    "variável é da classe (variável de instacia); Ela pode receber qualquer nome,\n",
    "mas o recomendado na documentação python é usar self\n",
    "# '''\n",
    "# def __init__(self): Significa que é um construtor vazio\n",
    "# construtor vazio não recebe parametros (apenas o obrigatorio)\n"
   ]
  },
  {
   "cell_type": "code",
   "execution_count": null,
   "id": "4663e6fb",
   "metadata": {},
   "outputs": [],
   "source": [
    "class lampada:\n",
    "    \n",
    "    def __init__(self, codigo, tipo, estado):\n",
    "        self.codigo = codigo\n",
    "        self.tipo = tipo\n",
    "        self.estado = estado\n",
    "        \n",
    "    def __init__(self):\n",
    "        self.codigo = 123\n",
    "        self.tipo = 'Fluorescente'\n",
    "        self.estado = 'Apagada'"
   ]
  }
 ],
 "metadata": {
  "kernelspec": {
   "display_name": "Python 3 (ipykernel)",
   "language": "python",
   "name": "python3"
  },
  "language_info": {
   "codemirror_mode": {
    "name": "ipython",
    "version": 3
   },
   "file_extension": ".py",
   "mimetype": "text/x-python",
   "name": "python",
   "nbconvert_exporter": "python",
   "pygments_lexer": "ipython3",
   "version": "3.10.4"
  }
 },
 "nbformat": 4,
 "nbformat_minor": 5
}
