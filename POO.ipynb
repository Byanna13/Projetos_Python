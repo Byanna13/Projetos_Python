{
 "cells": [
  {
   "cell_type": "raw",
   "id": "f147aa00",
   "metadata": {},
   "source": [
    "Pricipal conceito da POO: - Objeto\n",
    "\n",
    "Para criar (instanciar) um objeto, eu preciso de uma classe\n",
    "\n",
    "A classe é onde serão definidos as características e ações que um objeto poderá assumir"
   ]
  },
  {
   "cell_type": "code",
   "execution_count": 5,
   "id": "fb87fe40",
   "metadata": {},
   "outputs": [],
   "source": [
    "# Criando uma classe\n",
    "class Nome:\n",
    "    pass\n",
    "\n",
    "# A pala reservada PASS serve para indicar que a classe é vazia"
   ]
  },
  {
   "cell_type": "markdown",
   "id": "1e41e2e4",
   "metadata": {},
   "source": [
    "CARACTERÍSTICAS = variáveis\n",
    "AÇÔES = funçoes\n",
    "\n",
    "Para definir as variaveis, é preciso utilizar o construtor \n",
    "\n",
    "CONSTRUTOR - funçao especial que é acessada no momento da criação do objeto (instanciação). Ela é acessada apenas uma vez (somente na criação)."
   ]
  },
  {
   "cell_type": "code",
   "execution_count": 10,
   "id": "1a1cf123",
   "metadata": {},
   "outputs": [
    {
     "data": {
      "text/plain": [
       "'        \\nself é um parâmetro obrigatório quando é preciso definir que uma \\nvariável é da classe (variável de instância); Ela pode receber qualquer nome,\\nmas o recomendado na documentação python é usar self\\n# '"
      ]
     },
     "execution_count": 10,
     "metadata": {},
     "output_type": "execute_result"
    }
   ],
   "source": [
    "class Lampada:\n",
    "    \n",
    "    def __init__(self):\n",
    "        self.codigo = 123\n",
    "        self.tipo = 'Fluorescente'\n",
    "        self.estado = 'Apagada'\n",
    "\n",
    "        \n",
    "#  __init__ é a função especial que representa o construtor da classe        \n",
    "'''        \n",
    "self é um parâmetro obrigatório quando é preciso definir que uma \n",
    "variável é da classe (variável de instância); Ela pode receber qualquer nome,\n",
    "mas o recomendado na documentação python é usar self\n",
    "# '''\n",
    "# def __init__(self): Significa que é um construtor vazio\n",
    "# construtor vazio não recebe parametros (apenas o obrigatorio)\n"
   ]
  },
  {
   "cell_type": "code",
   "execution_count": 11,
   "id": "4663e6fb",
   "metadata": {},
   "outputs": [],
   "source": [
    "'''\n",
    "Python não permite dois construtores na mesma classe, oque vai permanecer será oque \n",
    "foi defenido por último. No exemplo a seguir seré cansiderado apenas o construtor vazio (o último)\n",
    "'''\n",
    "\n",
    "class Lampada:\n",
    "    \n",
    "    def __init__(self, codigo, tipo, estado):\n",
    "        self.codigo = codigo\n",
    "        self.tipo = tipo\n",
    "        self.estado = estado\n",
    "        \n",
    "    def __init__(self):\n",
    "        self.codigo = 123\n",
    "        self.tipo = 'Fluorescente'\n",
    "        self.estado = 'Apagada'"
   ]
  },
  {
   "cell_type": "code",
   "execution_count": 16,
   "id": "bad518be",
   "metadata": {},
   "outputs": [],
   "source": [
    "# Classe Lampada com o construtor panrâmetrizado \n",
    "\n",
    "class Lampada:\n",
    "    \n",
    "    def __init__(self, codigo, tipo, estado):\n",
    "        self.codigo = codigo\n",
    "        self.tipo = tipo\n",
    "        self.estado = estado"
   ]
  },
  {
   "cell_type": "code",
   "execution_count": 17,
   "id": "a512beed",
   "metadata": {},
   "outputs": [],
   "source": [
    "# Instânciar um objeto a partir da classe Lampada\n",
    "\n",
    "lampada = Lampada(123, 'Fluorescente', 'Apagada')"
   ]
  },
  {
   "cell_type": "code",
   "execution_count": 18,
   "id": "35dca03b",
   "metadata": {},
   "outputs": [],
   "source": [
    "# Classe Lampada com o construtor vazio\n",
    "\n",
    "class Lampada:\n",
    "        \n",
    "    def __init__(self):\n",
    "        self.codigo = 123\n",
    "        self.tipo = 'Fluorescente'\n",
    "        self.estado = 'Apagada'"
   ]
  },
  {
   "cell_type": "code",
   "execution_count": 19,
   "id": "22eb9408",
   "metadata": {},
   "outputs": [],
   "source": [
    "# Instanciando um objeto a aprtir de um construtor vazio\n",
    "lampada = Lampada()"
   ]
  },
  {
   "cell_type": "code",
   "execution_count": 41,
   "id": "34ebd6aa",
   "metadata": {},
   "outputs": [],
   "source": [
    "# Definindo Funções (Ações)\n",
    "\n",
    "class Lampada:\n",
    "    \n",
    "    def __init__(self, codigo, tipo, estado):\n",
    "        self.codigo = codigo\n",
    "        self.tipo = tipo\n",
    "        self.estado = estado\n",
    "        \n",
    "    def acender(self):\n",
    "        self.estado = 'Acesa'\n",
    "    \n",
    "    def apagar(self):\n",
    "        self.estado = 'Apagada'"
   ]
  },
  {
   "cell_type": "code",
   "execution_count": 42,
   "id": "95f7b314",
   "metadata": {},
   "outputs": [
    {
     "name": "stdout",
     "output_type": "stream",
     "text": [
      "Apagada\n",
      "Acesa\n",
      "Apagada\n",
      "Led\n",
      "1\n",
      "Fluorescente\n"
     ]
    }
   ],
   "source": [
    "lampada1 = Lampada(1, 'Led', 'Apagada')\n",
    "print(lampada1.estado)\n",
    "lampada1.acender()\n",
    "print(lampada1.estado)\n",
    "lampada1.apagar()\n",
    "print(lampada1.estado)\n",
    "print(lampada1.tipo)\n",
    "print(lampada1.codigo)\n",
    "lampada1.tipo = 'Fluorescente'\n",
    "print(lampada1.tipo)"
   ]
  },
  {
   "cell_type": "code",
   "execution_count": 51,
   "id": "997b2415",
   "metadata": {},
   "outputs": [],
   "source": [
    "# Definindo Funções (Ações) com construtor vazio\n",
    "\n",
    "class Lampada:\n",
    "    \n",
    "    def __init__(self):\n",
    "        self.codigo = 0\n",
    "        self.tipo = ''\n",
    "        self.estado = ''\n",
    "        \n",
    "    def acender(self):\n",
    "        self.estado = 'Acesa'\n",
    "    \n",
    "    def apagar(self):\n",
    "        self.estado = 'Apagada'"
   ]
  },
  {
   "cell_type": "code",
   "execution_count": 53,
   "id": "2be7156d",
   "metadata": {},
   "outputs": [
    {
     "name": "stdout",
     "output_type": "stream",
     "text": [
      "Apagada\n",
      "Acesa\n"
     ]
    }
   ],
   "source": [
    "lampada2 = Lampada()\n",
    "lampada2.codigo = 2\n",
    "lampada2.tipo = 'Led'\n",
    "lampada2.estado = 'Apagada'\n",
    "print(lampada2.estado)\n",
    "lampada2.acender()\n",
    "print(lampada2.estado)"
   ]
  },
  {
   "cell_type": "code",
   "execution_count": 54,
   "id": "b05648f8",
   "metadata": {},
   "outputs": [
    {
     "name": "stdout",
     "output_type": "stream",
     "text": [
      "<__main__.Lampada object at 0x0000018920E9B610>\n"
     ]
    }
   ],
   "source": [
    "# Se tentar imprimir diretamente o objeto, o programa exibirá o endereço de memória\n",
    "# Obs.: Não é erro, executa normalmente \n",
    "\n",
    "print(lampada2)"
   ]
  },
  {
   "cell_type": "code",
   "execution_count": 63,
   "id": "ba375f3a",
   "metadata": {},
   "outputs": [],
   "source": [
    "'''\n",
    "Para mudar o que aparece quando imprime diretamente o objeto, se usa a função especial __str__\n",
    "'''\n",
    "\n",
    "class Lampada:\n",
    "    \n",
    "    def __init__(self):\n",
    "        self.codigo = 0\n",
    "        self.tipo = ''\n",
    "        self.estado = ''\n",
    "        \n",
    "    def acender(self):\n",
    "        self.estado = 'Acesa'\n",
    "    \n",
    "    def apagar(self):\n",
    "        self.estado = 'Apagada'\n",
    "        \n",
    "    def __str__(self):\n",
    "        return 'Tipo da Lampada: '+self.tipo"
   ]
  },
  {
   "cell_type": "code",
   "execution_count": 64,
   "id": "b5cab26d",
   "metadata": {},
   "outputs": [
    {
     "name": "stdout",
     "output_type": "stream",
     "text": [
      "Tipo da Lampada: Led\n"
     ]
    }
   ],
   "source": [
    "lampada3 = Lampada()\n",
    "lampada3.codigo = 3\n",
    "lampada3.tipo = 'Led'\n",
    "lampada3.estado = 'Apagada'\n",
    "\n",
    "print(lampada3)"
   ]
  },
  {
   "cell_type": "code",
   "execution_count": 67,
   "id": "97948e80",
   "metadata": {},
   "outputs": [
    {
     "name": "stdout",
     "output_type": "stream",
     "text": [
      "Digite um código: 7\n",
      "Digite o tipo: flor\n",
      "7\n",
      "flor\n",
      "Apagada\n"
     ]
    }
   ],
   "source": [
    "lampada4 = Lampada()\n",
    "lampada4.codigo = int(input('Digite um código: '))\n",
    "lampada4.tipo = input('Digite o tipo: ')\n",
    "lampada4.estado = 'Apagada'\n",
    "\n",
    "print(lampada4.codigo)\n",
    "print(lampada4.tipo)\n",
    "print(lampada4.estado)"
   ]
  },
  {
   "cell_type": "code",
   "execution_count": null,
   "id": "4c6e252b",
   "metadata": {},
   "outputs": [],
   "source": []
  }
 ],
 "metadata": {
  "kernelspec": {
   "display_name": "Python 3 (ipykernel)",
   "language": "python",
   "name": "python3"
  },
  "language_info": {
   "codemirror_mode": {
    "name": "ipython",
    "version": 3
   },
   "file_extension": ".py",
   "mimetype": "text/x-python",
   "name": "python",
   "nbconvert_exporter": "python",
   "pygments_lexer": "ipython3",
   "version": "3.10.4"
  }
 },
 "nbformat": 4,
 "nbformat_minor": 5
}
